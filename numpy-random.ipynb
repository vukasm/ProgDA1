{
 "cells": [
  {
   "cell_type": "markdown",
   "metadata": {},
   "source": [
    "# The introduction to numpy.random package"
   ]
  },
  {
   "cell_type": "markdown",
   "metadata": {},
   "source": [
    "by Margarita Vukas"
   ]
  },
  {
   "cell_type": "markdown",
   "metadata": {},
   "source": [
    "## Part I. The Basics\n",
    "**NumPy** is a python package which main objective is the homogenous multidimensional array. It provides a high-performance multidimensional array object, and tools for working with these arrays. Several other Python packages in Python such as ScyPy and Matplotlib to some extent depend on Numpy and it's functions.\n",
    "Array in Numpy is a table of elements (usually numbers), all of the same type, indexed by a tuple of positive integers.  \n",
    "NumPy's submodule **numpy.random** provides various routines for generating random numbers. It uses a particular algorithm, called the Mersenne Twisted, to generate pseudorandom numbers."
   ]
  },
  {
   "cell_type": "markdown",
   "metadata": {},
   "source": [
    "There are many advantages of using Numpy over regular Python. Python's  lists are efficient general-purpose containers, but they have limitations. On the other side, Numpy is more suitable for performing more complex operations. All in all, Numpy is faster, more convinient and much more efficient.  "
   ]
  },
  {
   "cell_type": "code",
   "execution_count": 20,
   "metadata": {},
   "outputs": [],
   "source": [
    "#import libraries\n",
    "import numpy as np"
   ]
  },
  {
   "cell_type": "markdown",
   "metadata": {},
   "source": [
    "An array class in Numpy is called as **ndarray**."
   ]
  },
  {
   "cell_type": "code",
   "execution_count": 4,
   "metadata": {},
   "outputs": [
    {
     "data": {
      "text/plain": [
       "array([[ 0,  1,  2,  3,  4],\n",
       "       [ 5,  6,  7,  8,  9],\n",
       "       [10, 11, 12, 13, 14]])"
      ]
     },
     "execution_count": 4,
     "metadata": {},
     "output_type": "execute_result"
    }
   ],
   "source": [
    "import numpy as np\n",
    "#making an array in the shape 3x5\n",
    "x = np.arange(15).reshape(3,5)\n",
    "x"
   ]
  },
  {
   "cell_type": "code",
   "execution_count": 6,
   "metadata": {},
   "outputs": [
    {
     "data": {
      "text/plain": [
       "numpy.ndarray"
      ]
     },
     "execution_count": 6,
     "metadata": {},
     "output_type": "execute_result"
    }
   ],
   "source": [
    "#checking the type of 'array'\n",
    "type(array)"
   ]
  },
  {
   "cell_type": "markdown",
   "metadata": {},
   "source": [
    "## Part II. Simple random data & Permutations"
   ]
  },
  {
   "cell_type": "markdown",
   "metadata": {},
   "source": [
    "### Simple random data"
   ]
  },
  {
   "cell_type": "markdown",
   "metadata": {},
   "source": [
    "A **simple random data** is a subset of a statistical population in which each member of the subset has an equal probability of being chosen. A simple random sample is meant to be an unbiased representation of a group.  \n",
    "Below I will explain some of the numpy.random built-in functions which are dealing with random sampling. "
   ]
  },
  {
   "cell_type": "markdown",
   "metadata": {},
   "source": [
    "### numpy.random.rand\n",
    "This functions outputs random values in a given shape. Either it creates an array of the given shape, which contains random numbers from the interval or outputs a single float if used without specifications (e.g. numpy.random.rand() ).  \n",
    "*Note: the interval is halp opened, which means that the lower bound is included but the higher band is excluded from the interval.*"
   ]
  },
  {
   "cell_type": "code",
   "execution_count": 3,
   "metadata": {},
   "outputs": [
    {
     "data": {
      "text/plain": [
       "array([[0.89401492, 0.63502645, 0.80590792, 0.1588354 , 0.45311701],\n",
       "       [0.92844705, 0.5621778 , 0.96353593, 0.16537664, 0.33335844],\n",
       "       [0.84008001, 0.39354377, 0.71019245, 0.44230142, 0.07140987]])"
      ]
     },
     "execution_count": 3,
     "metadata": {},
     "output_type": "execute_result"
    }
   ],
   "source": [
    "#numpy.random.rand function\n",
    "np.random.rand(3,5)\n"
   ]
  },
  {
   "cell_type": "code",
   "execution_count": 5,
   "metadata": {},
   "outputs": [
    {
     "data": {
      "image/png": "[encoded data removed]",
      "text/plain": [
       "<Figure size 432x288 with 1 Axes>"
      ]
     },
     "metadata": {
      "needs_background": "light"
     },
     "output_type": "display_data"
    }
   ],
   "source": [
    "#importing matplotlib.pyplot library\n",
    "import matplotlib.pyplot as plt\n",
    "#matplotlib magic command\n",
    "%matplotlib inline\n",
    "\n",
    "x=np.random.rand(3,5)\n",
    "\n",
    "#plotting a histogram of x\n",
    "plt.hist(x)\n",
    "plt.show()"
   ]
  },
  {
   "cell_type": "markdown",
   "metadata": {},
   "source": [
    "The difference from all of the other numpy.random functions is that the others accept shapes, i.e. N-tuples (specified as Python lists or tuples).  \n",
    "The following two lines will return exactly the same results"
   ]
  },
  {
   "cell_type": "code",
   "execution_count": 12,
   "metadata": {},
   "outputs": [],
   "source": [
    "import numpy as np\n",
    "\n",
    "# a single tuple as parameter\n",
    "x = np.random.random_sample((1,2,3)) \n",
    "# integers as parameters\n",
    "x = np.random.rand(1,2,3) "
   ]
  },
  {
   "cell_type": "markdown",
   "metadata": {},
   "source": [
    "## numpy.random_sample"
   ]
  },
  {
   "cell_type": "markdown",
   "metadata": {},
   "source": [
    "**numpy.random_sample** function returns random floats in the half open interval.  \n",
    "It only has one paremeter - size, which determines the shape of the array. As a default, it returns single float.  \n",
    "*Note: For multidimensional arrays, it is required to use double brackets.*"
   ]
  },
  {
   "cell_type": "code",
   "execution_count": 13,
   "metadata": {},
   "outputs": [
    {
     "data": {
      "text/plain": [
       "array([[0.59086317, 0.55846086],\n",
       "       [0.71535205, 0.02227596],\n",
       "       [0.24444349, 0.16856647],\n",
       "       [0.1147374 , 0.76811428],\n",
       "       [0.70623635, 0.83444263]])"
      ]
     },
     "execution_count": 13,
     "metadata": {},
     "output_type": "execute_result"
    }
   ],
   "source": [
    "#random_sample function\n",
    "x = np.random.random_sample((5,2))\n",
    "x"
   ]
  },
  {
   "cell_type": "markdown",
   "metadata": {},
   "source": [
    "Note that this function is, also, an alias for numpy.random.random function."
   ]
  },
  {
   "cell_type": "markdown",
   "metadata": {},
   "source": [
    "### Permutations"
   ]
  },
  {
   "cell_type": "markdown",
   "metadata": {},
   "source": [
    "**Permutation** , in mathematics, is the act of arranging the members of a set into a sequence or order, or, if set is already ordered, changing the arrangement, especially in linear order.  \n",
    "**numpy.random** package offeres two functions for dealing with permutations - **shuffle(x)** and **permutation(x)** function."
   ]
  },
  {
   "cell_type": "markdown",
   "metadata": {},
   "source": [
    "### numpy.random.shuffle"
   ]
  },
  {
   "cell_type": "markdown",
   "metadata": {},
   "source": [
    "**numpy.random.shuffle** function modifies a sequence in-place by shuffling its contents.  \n",
    "It is important to note, that in the case of multi-dimensional array, this function only shuffles the array of the first axis. Others remain the same.  \n"
   ]
  },
  {
   "cell_type": "code",
   "execution_count": 15,
   "metadata": {},
   "outputs": [
    {
     "data": {
      "text/plain": [
       "array([ 4,  0,  7,  3,  9,  5,  2, 11,  1, 10,  8,  6])"
      ]
     },
     "execution_count": 15,
     "metadata": {},
     "output_type": "execute_result"
    }
   ],
   "source": [
    "import numpy as np\n",
    "\n",
    "#one-dimensional array\n",
    "arr = np.arange(12)\n",
    "#random.shuffle function\n",
    "np.random.shuffle(arr)\n",
    "arr"
   ]
  },
  {
   "cell_type": "code",
   "execution_count": 49,
   "metadata": {},
   "outputs": [
    {
     "data": {
      "text/plain": [
       "array([[ 0,  1,  2,  3,  4],\n",
       "       [ 5,  6,  7,  8,  9],\n",
       "       [10, 11, 12, 13, 14]])"
      ]
     },
     "execution_count": 49,
     "metadata": {},
     "output_type": "execute_result"
    }
   ],
   "source": [
    "#multi-dimensional arrays\n",
    "abc = np.arange(15).reshape((3, 5))\n",
    "np.random.shuffle(arr)\n",
    "abc"
   ]
  },
  {
   "cell_type": "markdown",
   "metadata": {},
   "source": [
    "### numpy.random.permutation"
   ]
  },
  {
   "cell_type": "markdown",
   "metadata": {},
   "source": [
    "**numpy.random.permutation** randomly permutes a sequence, or a return a permuted range.  \n",
    "Again, if we are using this function on multi-dimensional array, it is only shuffeled along its first index.  "
   ]
  },
  {
   "cell_type": "code",
   "execution_count": 16,
   "metadata": {},
   "outputs": [
    {
     "data": {
      "text/plain": [
       "array([ 1,  8,  0,  3,  9,  5,  6,  2, 10,  4, 11,  7])"
      ]
     },
     "execution_count": 16,
     "metadata": {},
     "output_type": "execute_result"
    }
   ],
   "source": [
    "#random.permutation function\n",
    "np.random.permutation(12)"
   ]
  },
  {
   "cell_type": "code",
   "execution_count": 43,
   "metadata": {},
   "outputs": [
    {
     "data": {
      "text/plain": [
       "array([15,  1,  4, 12,  9])"
      ]
     },
     "execution_count": 43,
     "metadata": {},
     "output_type": "execute_result"
    }
   ],
   "source": [
    "np.random.permutation([1, 4, 9, 12, 15])"
   ]
  },
  {
   "cell_type": "code",
   "execution_count": 17,
   "metadata": {},
   "outputs": [
    {
     "data": {
      "text/plain": [
       "array([[ 5,  6,  7,  8,  9],\n",
       "       [10, 11, 12, 13, 14],\n",
       "       [ 0,  1,  2,  3,  4]])"
      ]
     },
     "execution_count": 17,
     "metadata": {},
     "output_type": "execute_result"
    }
   ],
   "source": [
    "#array in the shape 3x5\n",
    "abc = np.arange(15).reshape((3, 5))\n",
    "np.random.permutation(abc)"
   ]
  },
  {
   "cell_type": "markdown",
   "metadata": {},
   "source": [
    "**np.random.permutation** and **np.random.shuffle** have several differences.  \n",
    "- if x is an array, **permutation** function will return a shuffled *copy* of the array inplace\n",
    "- if x is an integer, **permutation** will return a shuffled range i.e. **np.random.shuffle(np.arange(n))**"
   ]
  },
  {
   "cell_type": "markdown",
   "metadata": {},
   "source": [
    "## Part III. Distributions"
   ]
  },
  {
   "cell_type": "markdown",
   "metadata": {},
   "source": [
    "### numpy.random.uniform\n",
    "This distribution draws samples from a uniform distribution.  \n",
    "\n",
    "*The uniform distribution - a type of probability distribution where all variables have the same probability to be outcomes (all outcomes are equally likely).*  \n",
    "\n",
    "Samples are equaly distributed over the half-open interval (includes low, but excludes high). In other words, any value within the given interval is equally likely to be drawn by uniform function.  \n",
    "The function has three paremeters, **low** (low band), **high** (high band) and **size** (output shape).  "
   ]
  },
  {
   "cell_type": "code",
   "execution_count": 18,
   "metadata": {},
   "outputs": [
    {
     "data": {
      "text/plain": [
       "array([0.67528745, 0.01605866, 0.5460572 , 0.00742527, 0.01763266,\n",
       "       0.04477361, 0.03931752, 0.7183816 , 0.07885389, 0.2485339 ,\n",
       "       0.0913625 , 0.19548896, 0.58653491, 0.7668149 , 0.52193918,\n",
       "       0.25979287, 0.04429207, 0.93795077, 0.18675934, 0.62027339,\n",
       "       0.8325278 , 0.24814346, 0.57065685, 0.46554448, 0.32159041,\n",
       "       0.13522081, 0.46252856, 0.71508249, 0.02053225, 0.74450427,\n",
       "       0.03261468, 0.10449482, 0.9063512 , 0.9437492 , 0.65439841,\n",
       "       0.83941045, 0.09357293, 0.41632616, 0.58596638, 0.89650196,\n",
       "       0.77067245, 0.44074622, 0.36827485, 0.16746332, 0.79939933,\n",
       "       0.0154716 , 0.16224653, 0.31574016, 0.61618159, 0.63084463])"
      ]
     },
     "execution_count": 18,
     "metadata": {},
     "output_type": "execute_result"
    }
   ],
   "source": [
    "#uniform distribution\n",
    "np.random.uniform(0,1,50)"
   ]
  },
  {
   "cell_type": "code",
   "execution_count": 19,
   "metadata": {},
   "outputs": [
    {
     "data": {
      "image/png": "[encoded data removed]",
      "text/plain": [
       "<Figure size 432x288 with 1 Axes>"
      ]
     },
     "metadata": {
      "needs_background": "light"
     },
     "output_type": "display_data"
    }
   ],
   "source": [
    "x=np.random.uniform(0,1,50)\n",
    "\n",
    "#histogram of the uniform distribution\n",
    "plt.hist(x)\n",
    "plt.show()"
   ]
  },
  {
   "cell_type": "markdown",
   "metadata": {},
   "source": [
    "### numpy.random.normal\n",
    "This function draws a random samples from a normaln (Gaussian distribution.  \n",
    "\n",
    "*Normal distribution - a probability distribution that is symmetric about the mean, showing that data near the mean are more frequant in occurance and therefore more likely to be the outcome. Often called a bell curve*  \n",
    "\n",
    "The function has three parameters , **loc** (mean), **scale** (standard deviation/spread of the function) and **size** (output shape).  \n"
   ]
  },
  {
   "cell_type": "code",
   "execution_count": 20,
   "metadata": {},
   "outputs": [
    {
     "data": {
      "image/png": "[encoded data removed]",
      "text/plain": [
       "<Figure size 432x288 with 1 Axes>"
      ]
     },
     "metadata": {
      "needs_background": "light"
     },
     "output_type": "display_data"
    }
   ],
   "source": [
    "#defining the parameters, mu as mean and sigma as standard deviation\n",
    "mu, sigma = 0, 0.1\n",
    "#normal distribution\n",
    "s = np.random.normal(mu, sigma, 1000)\n",
    "\n",
    "#histogram and KDE of the normal distribution\n",
    "count, bins, ignored = plt.hist(s, 30, density=True)\n",
    "plt.plot(bins, 1/(sigma * np.sqrt(2 * np.pi)) *\n",
    "                np.exp( - (bins - mu)**2 / (2 * sigma**2) ),\n",
    "          linewidth=2, color='r')\n",
    "plt.show()"
   ]
  },
  {
   "cell_type": "markdown",
   "metadata": {},
   "source": [
    "### numpy.random.poisson "
   ]
  },
  {
   "cell_type": "markdown",
   "metadata": {},
   "source": [
    "**numpy.random.poisson** is a probability function named by French mathematician **Simeon Poisson**. \n",
    "This function draws samples from a Poisson distribution.  \n",
    "**Poisson distribution** is the discrete probability distribution of the number of events occurring in a given time period, given the average number of times the event occurs over that time period.  \n",
    "In other words, when calling poisson function, we input 2 parameters - **lam**, which is an expectation of interval (average number of times the event occures) and **size**, i.e. output shape.  \n",
    "Output of the function is an ndarray or scalar."
   ]
  },
  {
   "cell_type": "code",
   "execution_count": 21,
   "metadata": {},
   "outputs": [
    {
     "data": {
      "text/plain": [
       "array([10, 12,  5, 12, 18, 16,  6, 11,  6, 12, 18,  4,  5,  9, 13,  9,  7,\n",
       "       10, 13,  9,  6,  8, 14, 15, 13,  9, 11,  8, 15, 19,  9,  7, 11,  6,\n",
       "       10, 12, 10,  5, 12,  6, 15,  9, 11, 10,  9, 13, 10, 12, 11,  6, 10,\n",
       "       11,  7,  6, 16, 13,  7, 13, 10,  7, 13,  3,  8, 12, 12,  6,  7, 11,\n",
       "       12, 19,  6,  9, 12, 13,  7,  7, 10,  7,  4, 14, 12, 14, 11, 14, 10,\n",
       "       13,  6,  9, 10,  8, 20, 15,  6, 12, 17, 10, 10, 10, 12,  7])"
      ]
     },
     "execution_count": 21,
     "metadata": {},
     "output_type": "execute_result"
    }
   ],
   "source": [
    "import numpy as np\n",
    "#poisson distribution\n",
    "x = np.random.poisson(10, 100)\n",
    "x"
   ]
  },
  {
   "cell_type": "code",
   "execution_count": 22,
   "metadata": {},
   "outputs": [
    {
     "data": {
      "image/png": "[encoded data removed]",
      "text/plain": [
       "<Figure size 432x288 with 1 Axes>"
      ]
     },
     "metadata": {
      "needs_background": "light"
     },
     "output_type": "display_data"
    }
   ],
   "source": [
    "#poisson distribution histogram\n",
    "import matplotlib.pyplot as plt\n",
    "count, bins, ignored = plt.hist(x, 10, density=True)\n",
    "plt.show()"
   ]
  },
  {
   "cell_type": "markdown",
   "metadata": {},
   "source": [
    "### numpy.random.pareto"
   ]
  },
  {
   "cell_type": "markdown",
   "metadata": {},
   "source": [
    "**numpy.random.pareto** function in numpy.random package draws samples from a **Pareto II or Lomax distribution** with specified shape.  \n",
    "**Lomax distribution** is a heavy-tail probability distribution used in business, economics etc. It is a shifted Pareto distribution, which means that it's support begings at zero (while in Pareto type I. it begins at 1).  \n",
    "*Note: Pareto type I. is a power-law probability distribution originally applied to describing the distribution of wealth in a society, fitting the trend that a large portion of wealth is held by a small fraction of the population.*  \n",
    "The Pareto distribution must be greater than zero, and is unbounded above. It is also known as the “80-20 rule”. In this distribution, 80 percent of the weights are in the lowest 20 percent of the range, while the other 20 percent fill the remaining 80 percent of the range.   "
   ]
  },
  {
   "cell_type": "markdown",
   "metadata": {},
   "source": [
    "The classical Pareto distribution can be obtained from the Lomax distribution by adding 1 and multiplying by the scale parameter m."
   ]
  },
  {
   "cell_type": "code",
   "execution_count": 17,
   "metadata": {},
   "outputs": [],
   "source": [
    "#a is the shape of the distribution (float or array of floats)\n",
    "#1000 describes output shape\n",
    "a = 3.0\n",
    "m = 2.0  \n",
    "s = (np.random.pareto(a, 1000) + 1) * m"
   ]
  },
  {
   "cell_type": "code",
   "execution_count": 19,
   "metadata": {},
   "outputs": [
    {
     "data": {
      "image/png": "[encoded data removed]",
      "text/plain": [
       "<Figure size 432x288 with 1 Axes>"
      ]
     },
     "metadata": {
      "needs_background": "light"
     },
     "output_type": "display_data"
    }
   ],
   "source": [
    "#displaying the histogram of the samples and the probability density function\n",
    "import matplotlib.pyplot as plt\n",
    "count, bins, _ = plt.hist(s, 100, density=True)\n",
    "fit = a*m**a / bins**(a+1)\n",
    "plt.plot(bins, max(count)*fit/max(fit), linewidth=2, color='r')\n",
    "plt.show()"
   ]
  },
  {
   "cell_type": "markdown",
   "metadata": {},
   "source": [
    "## Part IV. Seeds"
   ]
  },
  {
   "cell_type": "markdown",
   "metadata": {},
   "source": [
    "### Seeds (Random Generator)\n",
    "People are proven to be not good in generating random numbers because of very noticable patterns. On the other hand, computers are known to be very good at it. The funny thing is, computers are not good at it either. They compute numbers that *look* random but actually are not, and those numbers are called **pseudo random numbers**.  \n",
    "\n",
    "To get better understanding of that, first we have to define the **seed**. **Seed** is a position, i.e. starting point for generating random numbers. If you know what the seed is, you can easily predict what \"random\" numbers the computer will generate."
   ]
  },
  {
   "cell_type": "markdown",
   "metadata": {},
   "source": [
    "Softwares can't generate truly random numbers because all current software is **deterministic**, which means that every output in a calculation will be the exact same given the same input - same seed.  \n",
    "By definition, true randomness is the *lack of a pattern or predictability in events* – and this type of behavior just isn’t possible in software. To achieve “random” behavior in our programs, computers can simulate randomness by using pseudorandom number generators, or in other words - RNG.  \n",
    "A **random number generator** (RNG) is a process used to generate an unpredictable series of numbers.  "
   ]
  },
  {
   "cell_type": "markdown",
   "metadata": {},
   "source": [
    "To test whether the number generation is deterministic, I will set a seed and ask numpy to generate 5 random numbers two times. "
   ]
  },
  {
   "cell_type": "code",
   "execution_count": 16,
   "metadata": {},
   "outputs": [
    {
     "data": {
      "text/plain": [
       "array([0.5881308 , 0.89771373, 0.89153073, 0.81583748, 0.03588959])"
      ]
     },
     "execution_count": 16,
     "metadata": {},
     "output_type": "execute_result"
    }
   ],
   "source": [
    "# Seeding the RNG\n",
    "np.random.seed(20)\n",
    "\n",
    "# Generating 5 random numbers\n",
    "np.random.random(size=5)"
   ]
  },
  {
   "cell_type": "code",
   "execution_count": 17,
   "metadata": {},
   "outputs": [
    {
     "data": {
      "text/plain": [
       "array([0.5881308 , 0.89771373, 0.89153073, 0.81583748, 0.03588959])"
      ]
     },
     "execution_count": 17,
     "metadata": {},
     "output_type": "execute_result"
    }
   ],
   "source": [
    "# Re-seeding the generator\n",
    "np.random.seed(20)\n",
    "\n",
    "# Generating 5 random numbers\n",
    "np.random.random(size=5)"
   ]
  },
  {
   "cell_type": "markdown",
   "metadata": {},
   "source": [
    "Above, you can see that given the same seed, numpy is generating the exact same \"random\" numbers.  \n",
    "As soon as we set different seed, the numbers will change."
   ]
  },
  {
   "cell_type": "code",
   "execution_count": 23,
   "metadata": {},
   "outputs": [
    {
     "data": {
      "text/plain": [
       "array([0.64414354, 0.38074849, 0.66304791, 0.16365073, 0.96260781])"
      ]
     },
     "execution_count": 23,
     "metadata": {},
     "output_type": "execute_result"
    }
   ],
   "source": [
    "# Again, re-seeding the RNG, but using different number\n",
    "np.random.seed(30)\n",
    "\n",
    "# Generating 5 random numbers\n",
    "np.random.random(size=5)"
   ]
  },
  {
   "cell_type": "markdown",
   "metadata": {},
   "source": [
    "# The End"
   ]
  },
  {
   "cell_type": "code",
   "execution_count": null,
   "metadata": {},
   "outputs": [],
   "source": []
  }
 ],
 "metadata": {
  "kernelspec": {
   "display_name": "Python 3",
   "language": "python",
   "name": "python3"
  },
  "language_info": {
   "codemirror_mode": {
    "name": "ipython",
    "version": 3
   },
   "file_extension": ".py",
   "mimetype": "text/x-python",
   "name": "python",
   "nbconvert_exporter": "python",
   "pygments_lexer": "ipython3",
   "version": "3.7.1"
  }
 },
 "nbformat": 4,
 "nbformat_minor": 2
}
