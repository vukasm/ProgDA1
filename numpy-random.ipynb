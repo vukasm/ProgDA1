{
 "cells": [
  {
   "cell_type": "markdown",
   "metadata": {},
   "source": [
    "# The introduction to numpy.random package"
   ]
  },
  {
   "cell_type": "markdown",
   "metadata": {},
   "source": [
    "by Margarita Vukas"
   ]
  },
  {
   "cell_type": "markdown",
   "metadata": {},
   "source": [
    "## Part I. The Basics\n",
    "**NumPy** is a python package which main objective is the homogenous multidimensional array. It provides a high-performance multidimensional array object, and tools for working with these arrays. Several other Python packages in Python such as ScyPy and Matplotlib to some extent depend on Numpy and it's functions.\n",
    "Array in Numpy is a table of elements (usually numbers), all of the same type, indexed by a tuple of positive integers.  \n",
    "NumPy's submodule **numpy.random** provides various routines for generating random numbers. It uses a particular algorithm, called the Mersenne Twisted, to generate pseudorandom numbers."
   ]
  },
  {
   "cell_type": "markdown",
   "metadata": {},
   "source": [
    "There are many advantages of using Numpy over regular Python. Python's  lists are efficient general-purpose containers, but they have limitations. On the other side, Numpy is more suitable for performing more complex operations. All in all, Numpy is faster, more convinient and much more efficient.  "
   ]
  },
  {
   "cell_type": "code",
   "execution_count": 4,
   "metadata": {},
   "outputs": [],
   "source": [
    "#import libraries\n",
    "import numpy as np"
   ]
  },
  {
   "cell_type": "markdown",
   "metadata": {},
   "source": [
    "An array class in Numpy is called as **ndarray**."
   ]
  },
  {
   "cell_type": "code",
   "execution_count": 9,
   "metadata": {},
   "outputs": [
    {
     "data": {
      "text/plain": [
       "array([[ 0,  1,  2,  3,  4],\n",
       "       [ 5,  6,  7,  8,  9],\n",
       "       [10, 11, 12, 13, 14]])"
      ]
     },
     "execution_count": 9,
     "metadata": {},
     "output_type": "execute_result"
    }
   ],
   "source": [
    "import numpy as np\n",
    "array = np.arange(15).reshape(3,5)\n",
    "array"
   ]
  },
  {
   "cell_type": "code",
   "execution_count": 11,
   "metadata": {},
   "outputs": [
    {
     "data": {
      "text/plain": [
       "numpy.ndarray"
      ]
     },
     "execution_count": 11,
     "metadata": {},
     "output_type": "execute_result"
    }
   ],
   "source": [
    "#checking the type of 'array'\n",
    "type(array)"
   ]
  },
  {
   "cell_type": "markdown",
   "metadata": {},
   "source": [
    "## Part II. Simple random data"
   ]
  },
  {
   "cell_type": "markdown",
   "metadata": {},
   "source": [
    "A **simple random data** is a subset of a statistical population in which each member of the subset has an equal probability of being chosen. A simple random sample is meant to be an unbiased representation of a group.  \n",
    "Below I will explain some of the numpy.random built-in functions which are dealing with random sampling. "
   ]
  },
  {
   "cell_type": "markdown",
   "metadata": {},
   "source": [
    "### numpy.random.rand\n",
    "This functions outputs random values in a given shape. Either it creates an array of the given shape, which contains random numbers from the interval or outputs a single float if used without specifications (e.g. numpy.random.rand() ).  \n",
    "*Note: the interval is halp opened, which means that the lower bound is included but the higher band is excluded from the interval.*"
   ]
  },
  {
   "cell_type": "code",
   "execution_count": 2,
   "metadata": {},
   "outputs": [
    {
     "data": {
      "text/plain": [
       "array([[0.8240285 , 0.17950984, 0.55688138, 0.17012145, 0.99202926],\n",
       "       [0.73699213, 0.46932934, 0.84959839, 0.46731528, 0.71496367],\n",
       "       [0.00641597, 0.5333428 , 0.49279952, 0.34063041, 0.21360507]])"
      ]
     },
     "execution_count": 2,
     "metadata": {},
     "output_type": "execute_result"
    }
   ],
   "source": [
    "np.random.rand(3,5)\n"
   ]
  },
  {
   "cell_type": "code",
   "execution_count": 27,
   "metadata": {},
   "outputs": [
    {
     "data": {
      "image/png": "[encoded data removed]",
      "text/plain": [
       "<Figure size 432x288 with 1 Axes>"
      ]
     },
     "metadata": {
      "needs_background": "light"
     },
     "output_type": "display_data"
    }
   ],
   "source": [
    "import matplotlib.pyplot as plt\n",
    "%matplotlib inline\n",
    "\n",
    "x=np.random.rand(3,5)\n",
    "x\n",
    "\n",
    "plt.hist(x)\n",
    "plt.show()"
   ]
  },
  {
   "cell_type": "markdown",
   "metadata": {},
   "source": [
    "## numpy.random.sample"
   ]
  },
  {
   "cell_type": "markdown",
   "metadata": {},
   "source": [
    "**numpy.random.sample** function returns random floats in the half open interval.  \n",
    "It only has one paremeter - size, which determines the shape of the array. As a default, it returns single float.  \n",
    "*Note: For multidimensional arrays, it is required to use double brackets.*"
   ]
  },
  {
   "cell_type": "code",
   "execution_count": 21,
   "metadata": {},
   "outputs": [
    {
     "data": {
      "text/plain": [
       "array([[0.81862011, 0.5551843 ],\n",
       "       [0.96658506, 0.91584783],\n",
       "       [0.1470051 , 0.12176003],\n",
       "       [0.66246427, 0.50136137],\n",
       "       [0.89247294, 0.99968551]])"
      ]
     },
     "execution_count": 21,
     "metadata": {},
     "output_type": "execute_result"
    }
   ],
   "source": [
    "x = np.random.random_sample((5,2))\n",
    "x"
   ]
  },
  {
   "cell_type": "code",
   "execution_count": null,
   "metadata": {},
   "outputs": [],
   "source": []
  },
  {
   "cell_type": "markdown",
   "metadata": {},
   "source": [
    "## Part III. Distributions"
   ]
  },
  {
   "cell_type": "markdown",
   "metadata": {},
   "source": [
    "### numpy.random.uniform\n",
    "This distribution draws samples from a uniform distribution.  \n",
    "\n",
    "*The uniform distribution - a type of probability distribution where all variables have the same probability to be outcomes (all outcomes are equally likely).*  \n",
    "\n",
    "Samples are equaly distributed over the half-open interval (includes low, but excludes high). In other words, any value within the given interval is equally likely to be drawn by uniform function.  \n",
    "The function has three paremeters, **low** (low band), **high** (high band) and **size** (output shape).  "
   ]
  },
  {
   "cell_type": "code",
   "execution_count": 32,
   "metadata": {},
   "outputs": [
    {
     "data": {
      "text/plain": [
       "array([0.26963271, 0.30742223, 0.96025145, 0.08404956, 0.35796943,\n",
       "       0.14002466, 0.33746045, 0.48072904, 0.89240822, 0.41940812,\n",
       "       0.12401457, 0.95615451, 0.6151439 , 0.03875107, 0.19396479,\n",
       "       0.38156731, 0.31704773, 0.14141562, 0.25481772, 0.62002824,\n",
       "       0.24668302, 0.60103494, 0.34154433, 0.33254093, 0.068528  ,\n",
       "       0.16341584, 0.07943796, 0.02385882, 0.05578385, 0.10676058,\n",
       "       0.97451811, 0.75840176, 0.80023497, 0.49977354, 0.66935004,\n",
       "       0.19409127, 0.21802693, 0.36298725, 0.41686914, 0.5662073 ,\n",
       "       0.95727036, 0.35622829, 0.4482549 , 0.22079205, 0.80392727,\n",
       "       0.92638582, 0.04424498, 0.84063288, 0.8830737 , 0.07113833])"
      ]
     },
     "execution_count": 32,
     "metadata": {},
     "output_type": "execute_result"
    }
   ],
   "source": [
    "np.random.uniform(0,1,50)"
   ]
  },
  {
   "cell_type": "code",
   "execution_count": 41,
   "metadata": {},
   "outputs": [
    {
     "data": {
      "image/png": "[encoded data removed]",
      "text/plain": [
       "<Figure size 432x288 with 1 Axes>"
      ]
     },
     "metadata": {
      "needs_background": "light"
     },
     "output_type": "display_data"
    }
   ],
   "source": [
    "x=np.random.uniform(0,1,50)\n",
    "\n",
    "plt.hist(x)\n",
    "plt.show()"
   ]
  },
  {
   "cell_type": "markdown",
   "metadata": {},
   "source": [
    "### numpy.random.normal\n",
    "This function draws a random samples from a normaln (Gaussian distribution.  \n",
    "\n",
    "*Normal distribution - a probability distribution that is symmetric about the mean, showing that data near the mean are more frequant in occurance and therefore more likely to be the outcome. Often called a bell curve*  \n",
    "\n",
    "The function has three parameters , **loc** (mean), **scale** (standard deviation/spread of the function) and **size** (output shape).  \n"
   ]
  },
  {
   "cell_type": "code",
   "execution_count": 44,
   "metadata": {},
   "outputs": [
    {
     "data": {
      "image/png": "[encoded data removed]",
      "text/plain": [
       "<Figure size 432x288 with 1 Axes>"
      ]
     },
     "metadata": {
      "needs_background": "light"
     },
     "output_type": "display_data"
    }
   ],
   "source": [
    "mu, sigma = 0, 0.1\n",
    "s = np.random.normal(mu, sigma, 1000)\n",
    "\n",
    "count, bins, ignored = plt.hist(s, 30, density=True)\n",
    "plt.plot(bins, 1/(sigma * np.sqrt(2 * np.pi)) *\n",
    "                np.exp( - (bins - mu)**2 / (2 * sigma**2) ),\n",
    "          linewidth=2, color='r')\n",
    "plt.show()"
   ]
  },
  {
   "cell_type": "markdown",
   "metadata": {},
   "source": [
    "## Part IV. Seeds"
   ]
  },
  {
   "cell_type": "markdown",
   "metadata": {},
   "source": [
    "### Seeds (Random Generator)\n",
    "People are proven to be not good in generating random numbers because of very noticable patterns. On the other hand, computers are known to be very good at it. The funny thing is, computers are not good at it either. They compute numbers that *look* random but actually are not, and those numbers are called **pseudo random numbers**.  \n",
    "\n",
    "To get better understanding of that, first we have to define the **seed**. **Seed** is a position, i.e. starting point for generating random numbers. If you know what the seed is, you can easily predict what \"random\" numbers the computer will generate."
   ]
  },
  {
   "cell_type": "markdown",
   "metadata": {},
   "source": [
    "Softwares can't generate truly random numbers because all current software is **deterministic**, which means that every output in a calculation will be the exact same given the same input - same seed.  \n",
    "By definition, true randomness is the *lack of a pattern or predictability in events* – and this type of behavior just isn’t possible in software. To achieve “random” behavior in our programs, computers can simulate randomness by using pseudorandom number generators, or in other words - RNG.  \n",
    "A **random number generator** (RNG) is a process used to generate an unpredictable series of numbers.  "
   ]
  },
  {
   "cell_type": "markdown",
   "metadata": {},
   "source": [
    "To test whether the number generation is deterministic, I will set a seed and ask numpy to generate 5 random numbers two times. "
   ]
  },
  {
   "cell_type": "code",
   "execution_count": 45,
   "metadata": {},
   "outputs": [
    {
     "data": {
      "text/plain": [
       "array([0.5881308 , 0.89771373, 0.89153073, 0.81583748, 0.03588959])"
      ]
     },
     "execution_count": 45,
     "metadata": {},
     "output_type": "execute_result"
    }
   ],
   "source": [
    "# Seeding the RNG\n",
    "np.random.seed(20)\n",
    "\n",
    "# Generating 5 random numbers\n",
    "np.random.random(size=5)"
   ]
  },
  {
   "cell_type": "code",
   "execution_count": 48,
   "metadata": {},
   "outputs": [
    {
     "data": {
      "text/plain": [
       "array([0.5881308 , 0.89771373, 0.89153073, 0.81583748, 0.03588959])"
      ]
     },
     "execution_count": 48,
     "metadata": {},
     "output_type": "execute_result"
    }
   ],
   "source": [
    "# Re-seeding the generator\n",
    "np.random.seed(20)\n",
    "\n",
    "# Generating 5 random numbers\n",
    "np.random.random(size=5)"
   ]
  },
  {
   "cell_type": "markdown",
   "metadata": {},
   "source": [
    "Above, you can see that given the same seed, numpy is generating the exact same \"random\" numbers.  \n",
    "As soon as we set different seed, the numbers will change."
   ]
  },
  {
   "cell_type": "code",
   "execution_count": 47,
   "metadata": {},
   "outputs": [
    {
     "data": {
      "text/plain": [
       "array([0.64414354, 0.38074849, 0.66304791, 0.16365073, 0.96260781])"
      ]
     },
     "execution_count": 47,
     "metadata": {},
     "output_type": "execute_result"
    }
   ],
   "source": [
    "# Again, re-seeding the RNG, but using different number\n",
    "np.random.seed(30)\n",
    "\n",
    "# Generating 5 random numbers\n",
    "np.random.random(size=5)"
   ]
  },
  {
   "cell_type": "code",
   "execution_count": null,
   "metadata": {},
   "outputs": [],
   "source": []
  }
 ],
 "metadata": {
  "kernelspec": {
   "display_name": "Python 3",
   "language": "python",
   "name": "python3"
  },
  "language_info": {
   "codemirror_mode": {
    "name": "ipython",
    "version": 3
   },
   "file_extension": ".py",
   "mimetype": "text/x-python",
   "name": "python",
   "nbconvert_exporter": "python",
   "pygments_lexer": "ipython3",
   "version": "3.7.1"
  }
 },
 "nbformat": 4,
 "nbformat_minor": 2
}
