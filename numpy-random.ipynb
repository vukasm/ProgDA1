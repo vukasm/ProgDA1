{
 "cells": [
  {
   "cell_type": "markdown",
   "metadata": {},
   "source": [
    "# The introduction to numpy.random package"
   ]
  },
  {
   "cell_type": "markdown",
   "metadata": {},
   "source": [
    "by Margarita Vukas"
   ]
  },
  {
   "cell_type": "markdown",
   "metadata": {},
   "source": [
    "## Part I. The Basics\n",
    "**NumPy** is a python package which main objective is the homogenous multidimensional array. It provides a high-performance multidimensional array object, and tools for working with these arrays. Several other Python packages in Python such as ScyPy and Matplotlib to some extent depend on Numpy and it's functions.\n",
    "Array in Numpy is a table of elements (usually numbers), all of the same type, indexed by a tuple of positive integers.  \n",
    "NumPy's submodule **numpy.random** provides various routines for generating random numbers. It uses a particular algorithm, called the Mersenne Twisted, to generate pseudorandom numbers."
   ]
  },
  {
   "cell_type": "markdown",
   "metadata": {},
   "source": [
    "There are many advantages of using Numpy over regular Python. Python's  lists are efficient general-purpose containers, but they have limitations. On the other side, Numpy is more suitable for performing more complex operations. All in all, Numpy is faster, more convinient and much more efficient.  "
   ]
  },
  {
   "cell_type": "code",
   "execution_count": 20,
   "metadata": {},
   "outputs": [],
   "source": [
    "#import libraries\n",
    "import numpy as np"
   ]
  },
  {
   "cell_type": "markdown",
   "metadata": {},
   "source": [
    "An array class in Numpy is called as **ndarray**."
   ]
  },
  {
   "cell_type": "code",
   "execution_count": 5,
   "metadata": {},
   "outputs": [
    {
     "data": {
      "text/plain": [
       "array([[ 0,  1,  2,  3,  4],\n",
       "       [ 5,  6,  7,  8,  9],\n",
       "       [10, 11, 12, 13, 14]])"
      ]
     },
     "execution_count": 5,
     "metadata": {},
     "output_type": "execute_result"
    }
   ],
   "source": [
    "import numpy as np\n",
    "array = np.arange(15).reshape(3,5)\n",
    "array"
   ]
  },
  {
   "cell_type": "code",
   "execution_count": 6,
   "metadata": {},
   "outputs": [
    {
     "data": {
      "text/plain": [
       "numpy.ndarray"
      ]
     },
     "execution_count": 6,
     "metadata": {},
     "output_type": "execute_result"
    }
   ],
   "source": [
    "#checking the type of 'array'\n",
    "type(array)"
   ]
  },
  {
   "cell_type": "markdown",
   "metadata": {},
   "source": [
    "## Part II. Simple random data & Permutations"
   ]
  },
  {
   "cell_type": "markdown",
   "metadata": {},
   "source": [
    "### Simple random data"
   ]
  },
  {
   "cell_type": "markdown",
   "metadata": {},
   "source": [
    "A **simple random data** is a subset of a statistical population in which each member of the subset has an equal probability of being chosen. A simple random sample is meant to be an unbiased representation of a group.  \n",
    "Below I will explain some of the numpy.random built-in functions which are dealing with random sampling. "
   ]
  },
  {
   "cell_type": "markdown",
   "metadata": {},
   "source": [
    "### numpy.random.rand\n",
    "This functions outputs random values in a given shape. Either it creates an array of the given shape, which contains random numbers from the interval or outputs a single float if used without specifications (e.g. numpy.random.rand() ).  \n",
    "*Note: the interval is halp opened, which means that the lower bound is included but the higher band is excluded from the interval.*"
   ]
  },
  {
   "cell_type": "code",
   "execution_count": 7,
   "metadata": {},
   "outputs": [
    {
     "data": {
      "text/plain": [
       "array([[0.44316094, 0.56128551, 0.50595374, 0.25406127, 0.56179542],\n",
       "       [0.4408668 , 0.98607858, 0.72764672, 0.31494347, 0.21189203],\n",
       "       [0.74599607, 0.45896173, 0.21097982, 0.42149767, 0.67978217]])"
      ]
     },
     "execution_count": 7,
     "metadata": {},
     "output_type": "execute_result"
    }
   ],
   "source": [
    "np.random.rand(3,5)\n"
   ]
  },
  {
   "cell_type": "code",
   "execution_count": 10,
   "metadata": {},
   "outputs": [
    {
     "data": {
      "image/png": "[encoded data removed]",
      "text/plain": [
       "<Figure size 432x288 with 1 Axes>"
      ]
     },
     "metadata": {
      "needs_background": "light"
     },
     "output_type": "display_data"
    }
   ],
   "source": [
    "import matplotlib.pyplot as plt\n",
    "%matplotlib inline\n",
    "\n",
    "x=np.random.rand(3,5)\n",
    "x\n",
    "\n",
    "plt.hist(x)\n",
    "plt.show()"
   ]
  },
  {
   "cell_type": "markdown",
   "metadata": {},
   "source": [
    "## numpy.random.sample"
   ]
  },
  {
   "cell_type": "markdown",
   "metadata": {},
   "source": [
    "**numpy.random.sample** function returns random floats in the half open interval.  \n",
    "It only has one paremeter - size, which determines the shape of the array. As a default, it returns single float.  \n",
    "*Note: For multidimensional arrays, it is required to use double brackets.*"
   ]
  },
  {
   "cell_type": "code",
   "execution_count": 11,
   "metadata": {},
   "outputs": [
    {
     "data": {
      "text/plain": [
       "array([[0.17755358, 0.51689727],\n",
       "       [0.01339393, 0.01305675],\n",
       "       [0.54411517, 0.5080623 ],\n",
       "       [0.77337395, 0.20140247],\n",
       "       [0.27000456, 0.44461926]])"
      ]
     },
     "execution_count": 11,
     "metadata": {},
     "output_type": "execute_result"
    }
   ],
   "source": [
    "x = np.random.random_sample((5,2))\n",
    "x"
   ]
  },
  {
   "cell_type": "markdown",
   "metadata": {},
   "source": [
    "### Permutations"
   ]
  },
  {
   "cell_type": "markdown",
   "metadata": {},
   "source": [
    "**Permutation** , in mathematics, is the act of arranging the members of a set into a sequence or order, or, if set is already ordered, changing the arrangement, especially in linear order.  \n",
    "**numpy.random** package offeres two functions for dealing with permutations - **shuffle(x)** and **permutation(x)** function."
   ]
  },
  {
   "cell_type": "markdown",
   "metadata": {},
   "source": [
    "### numpy.random.shuffle"
   ]
  },
  {
   "cell_type": "markdown",
   "metadata": {},
   "source": [
    "**numpy.random.shuffle** function modifies a sequence in-place by shuffling its contents.  \n",
    "It is important to note, that in the case of multi-dimensional array, this function only shuffles the array of the first axis. Others remain the same.  \n"
   ]
  },
  {
   "cell_type": "code",
   "execution_count": 46,
   "metadata": {},
   "outputs": [
    {
     "data": {
      "text/plain": [
       "array([ 4,  3,  0, 10,  6,  7, 11,  5,  1,  2,  9,  8])"
      ]
     },
     "execution_count": 46,
     "metadata": {},
     "output_type": "execute_result"
    }
   ],
   "source": [
    "import numpy as np\n",
    "#one-dimensional array\n",
    "arr = np.arange(12)\n",
    "np.random.shuffle(arr)\n",
    "arr"
   ]
  },
  {
   "cell_type": "code",
   "execution_count": 49,
   "metadata": {},
   "outputs": [
    {
     "data": {
      "text/plain": [
       "array([[ 0,  1,  2,  3,  4],\n",
       "       [ 5,  6,  7,  8,  9],\n",
       "       [10, 11, 12, 13, 14]])"
      ]
     },
     "execution_count": 49,
     "metadata": {},
     "output_type": "execute_result"
    }
   ],
   "source": [
    "#multi-dimensional arrays\n",
    "abc = np.arange(15).reshape((3, 5))\n",
    "np.random.shuffle(arr)\n",
    "abc"
   ]
  },
  {
   "cell_type": "markdown",
   "metadata": {},
   "source": [
    "### numpy.random.permutation"
   ]
  },
  {
   "cell_type": "markdown",
   "metadata": {},
   "source": [
    "**numpy.random.permutation** randomly permutes a sequence, or a return a permuted range.  \n",
    "Again, if we are using this function on multi-dimensional array, it is only shuffeled along its first index.  "
   ]
  },
  {
   "cell_type": "code",
   "execution_count": 42,
   "metadata": {},
   "outputs": [
    {
     "data": {
      "text/plain": [
       "array([ 1,  9, 10,  0,  5,  4,  8,  6, 11,  7,  2,  3])"
      ]
     },
     "execution_count": 42,
     "metadata": {},
     "output_type": "execute_result"
    }
   ],
   "source": [
    "np.random.permutation(12)"
   ]
  },
  {
   "cell_type": "code",
   "execution_count": 43,
   "metadata": {},
   "outputs": [
    {
     "data": {
      "text/plain": [
       "array([15,  1,  4, 12,  9])"
      ]
     },
     "execution_count": 43,
     "metadata": {},
     "output_type": "execute_result"
    }
   ],
   "source": [
    "np.random.permutation([1, 4, 9, 12, 15])"
   ]
  },
  {
   "cell_type": "code",
   "execution_count": 60,
   "metadata": {},
   "outputs": [
    {
     "data": {
      "text/plain": [
       "array([[10, 11, 12, 13, 14],\n",
       "       [ 5,  6,  7,  8,  9],\n",
       "       [ 0,  1,  2,  3,  4]])"
      ]
     },
     "execution_count": 60,
     "metadata": {},
     "output_type": "execute_result"
    }
   ],
   "source": [
    "abc = np.arange(15).reshape((3, 5))\n",
    "np.random.permutation(abc)"
   ]
  },
  {
   "cell_type": "markdown",
   "metadata": {},
   "source": [
    "**np.random.permutation** and **np.random.shuffle** have several differences.  \n",
    "- if x is an array, **permutation** function will return a shuffled *copy* of the array inplace\n",
    "- if x is an integer, **permutation** will return a shuffled range i.e. **np.random.shuffle(np.arange(n))**"
   ]
  },
  {
   "cell_type": "markdown",
   "metadata": {},
   "source": [
    "## Part III. Distributions"
   ]
  },
  {
   "cell_type": "markdown",
   "metadata": {},
   "source": [
    "### numpy.random.uniform\n",
    "This distribution draws samples from a uniform distribution.  \n",
    "\n",
    "*The uniform distribution - a type of probability distribution where all variables have the same probability to be outcomes (all outcomes are equally likely).*  \n",
    "\n",
    "Samples are equaly distributed over the half-open interval (includes low, but excludes high). In other words, any value within the given interval is equally likely to be drawn by uniform function.  \n",
    "The function has three paremeters, **low** (low band), **high** (high band) and **size** (output shape).  "
   ]
  },
  {
   "cell_type": "code",
   "execution_count": 13,
   "metadata": {},
   "outputs": [
    {
     "data": {
      "text/plain": [
       "array([0.00351544, 0.48223143, 0.0922356 , 0.43372929, 0.64388131,\n",
       "       0.29512243, 0.66524035, 0.59538923, 0.16420231, 0.7331468 ,\n",
       "       0.7874358 , 0.50625721, 0.15576478, 0.96584234, 0.11791824,\n",
       "       0.74221896, 0.97892658, 0.15972263, 0.97434803, 0.16195162,\n",
       "       0.51025152, 0.58732862, 0.97569002, 0.15012538, 0.93936432,\n",
       "       0.27357884, 0.37229468, 0.6964118 , 0.55124751, 0.57510307,\n",
       "       0.50694387, 0.35960491, 0.03641499, 0.87175597, 0.31106447,\n",
       "       0.48301185, 0.6536464 , 0.6613319 , 0.2938348 , 0.57748783,\n",
       "       0.55378148, 0.93486586, 0.44937175, 0.54358886, 0.19411332,\n",
       "       0.90346927, 0.0108882 , 0.30740673, 0.23752651, 0.82550854])"
      ]
     },
     "execution_count": 13,
     "metadata": {},
     "output_type": "execute_result"
    }
   ],
   "source": [
    "np.random.uniform(0,1,50)"
   ]
  },
  {
   "cell_type": "code",
   "execution_count": 14,
   "metadata": {},
   "outputs": [
    {
     "data": {
      "image/png": "[encoded data removed]",
      "text/plain": [
       "<Figure size 432x288 with 1 Axes>"
      ]
     },
     "metadata": {
      "needs_background": "light"
     },
     "output_type": "display_data"
    }
   ],
   "source": [
    "x=np.random.uniform(0,1,50)\n",
    "\n",
    "plt.hist(x)\n",
    "plt.show()"
   ]
  },
  {
   "cell_type": "markdown",
   "metadata": {},
   "source": [
    "### numpy.random.normal\n",
    "This function draws a random samples from a normaln (Gaussian distribution.  \n",
    "\n",
    "*Normal distribution - a probability distribution that is symmetric about the mean, showing that data near the mean are more frequant in occurance and therefore more likely to be the outcome. Often called a bell curve*  \n",
    "\n",
    "The function has three parameters , **loc** (mean), **scale** (standard deviation/spread of the function) and **size** (output shape).  \n"
   ]
  },
  {
   "cell_type": "code",
   "execution_count": 15,
   "metadata": {},
   "outputs": [
    {
     "data": {
      "image/png": "[encoded data removed]",
      "text/plain": [
       "<Figure size 432x288 with 1 Axes>"
      ]
     },
     "metadata": {
      "needs_background": "light"
     },
     "output_type": "display_data"
    }
   ],
   "source": [
    "mu, sigma = 0, 0.1\n",
    "s = np.random.normal(mu, sigma, 1000)\n",
    "\n",
    "count, bins, ignored = plt.hist(s, 30, density=True)\n",
    "plt.plot(bins, 1/(sigma * np.sqrt(2 * np.pi)) *\n",
    "                np.exp( - (bins - mu)**2 / (2 * sigma**2) ),\n",
    "          linewidth=2, color='r')\n",
    "plt.show()"
   ]
  },
  {
   "cell_type": "markdown",
   "metadata": {},
   "source": [
    "### numpy.random.poisson "
   ]
  },
  {
   "cell_type": "markdown",
   "metadata": {},
   "source": [
    "**numpy.random.poisson** is a probability function named by French mathematician **Simeon Poisson**. \n",
    "This function draws samples from a Poisson distribution.  \n",
    "**Poisson distribution** is the discrete probability distribution of the number of events occurring in a given time period, given the average number of times the event occurs over that time period.  \n",
    "In other words, when calling poisson function, we input 2 parameters - **lam**, which is an expectation of interval (average number of times the event occures) and **size**, i.e. output shape.  \n",
    "Output of the function is an ndarray or scalar."
   ]
  },
  {
   "cell_type": "code",
   "execution_count": 81,
   "metadata": {},
   "outputs": [
    {
     "data": {
      "text/plain": [
       "array([14, 14,  8,  7, 12, 17,  9, 12,  9, 13, 19, 19,  9, 12, 15,  9, 16,\n",
       "       10, 10, 11, 15, 12,  8, 19,  6,  8,  7, 10, 13, 10,  7, 10,  7,  7,\n",
       "       11, 11,  7, 12,  5,  8, 10, 13, 12, 17, 10,  7, 12,  9, 12, 10, 13,\n",
       "       11,  8, 10,  7, 11, 12, 17, 13,  5,  6,  5,  8,  7,  5,  8, 10, 10,\n",
       "        8, 15,  8,  8,  6,  6, 15,  8, 14,  9, 12,  7, 11, 11,  9,  3, 14,\n",
       "       12, 10, 11,  7,  6,  9, 14,  7,  5, 13, 11,  6,  9,  8, 11])"
      ]
     },
     "execution_count": 81,
     "metadata": {},
     "output_type": "execute_result"
    }
   ],
   "source": [
    "import numpy as np\n",
    "x = np.random.poisson(10, 100)\n",
    "x"
   ]
  },
  {
   "cell_type": "code",
   "execution_count": 82,
   "metadata": {},
   "outputs": [
    {
     "data": {
      "image/png": "[encoded data removed]",
      "text/plain": [
       "<Figure size 432x288 with 1 Axes>"
      ]
     },
     "metadata": {
      "needs_background": "light"
     },
     "output_type": "display_data"
    }
   ],
   "source": [
    "import matplotlib.pyplot as plt\n",
    "count, bins, ignored = plt.hist(x, 10, density=True)\n",
    "plt.show()"
   ]
  },
  {
   "cell_type": "markdown",
   "metadata": {},
   "source": [
    "## Part IV. Seeds"
   ]
  },
  {
   "cell_type": "markdown",
   "metadata": {},
   "source": [
    "### Seeds (Random Generator)\n",
    "People are proven to be not good in generating random numbers because of very noticable patterns. On the other hand, computers are known to be very good at it. The funny thing is, computers are not good at it either. They compute numbers that *look* random but actually are not, and those numbers are called **pseudo random numbers**.  \n",
    "\n",
    "To get better understanding of that, first we have to define the **seed**. **Seed** is a position, i.e. starting point for generating random numbers. If you know what the seed is, you can easily predict what \"random\" numbers the computer will generate."
   ]
  },
  {
   "cell_type": "markdown",
   "metadata": {},
   "source": [
    "Softwares can't generate truly random numbers because all current software is **deterministic**, which means that every output in a calculation will be the exact same given the same input - same seed.  \n",
    "By definition, true randomness is the *lack of a pattern or predictability in events* – and this type of behavior just isn’t possible in software. To achieve “random” behavior in our programs, computers can simulate randomness by using pseudorandom number generators, or in other words - RNG.  \n",
    "A **random number generator** (RNG) is a process used to generate an unpredictable series of numbers.  "
   ]
  },
  {
   "cell_type": "markdown",
   "metadata": {},
   "source": [
    "To test whether the number generation is deterministic, I will set a seed and ask numpy to generate 5 random numbers two times. "
   ]
  },
  {
   "cell_type": "code",
   "execution_count": 16,
   "metadata": {},
   "outputs": [
    {
     "data": {
      "text/plain": [
       "array([0.5881308 , 0.89771373, 0.89153073, 0.81583748, 0.03588959])"
      ]
     },
     "execution_count": 16,
     "metadata": {},
     "output_type": "execute_result"
    }
   ],
   "source": [
    "# Seeding the RNG\n",
    "np.random.seed(20)\n",
    "\n",
    "# Generating 5 random numbers\n",
    "np.random.random(size=5)"
   ]
  },
  {
   "cell_type": "code",
   "execution_count": 17,
   "metadata": {},
   "outputs": [
    {
     "data": {
      "text/plain": [
       "array([0.5881308 , 0.89771373, 0.89153073, 0.81583748, 0.03588959])"
      ]
     },
     "execution_count": 17,
     "metadata": {},
     "output_type": "execute_result"
    }
   ],
   "source": [
    "# Re-seeding the generator\n",
    "np.random.seed(20)\n",
    "\n",
    "# Generating 5 random numbers\n",
    "np.random.random(size=5)"
   ]
  },
  {
   "cell_type": "markdown",
   "metadata": {},
   "source": [
    "Above, you can see that given the same seed, numpy is generating the exact same \"random\" numbers.  \n",
    "As soon as we set different seed, the numbers will change."
   ]
  },
  {
   "cell_type": "code",
   "execution_count": 18,
   "metadata": {},
   "outputs": [
    {
     "data": {
      "text/plain": [
       "array([0.64414354, 0.38074849, 0.66304791, 0.16365073, 0.96260781])"
      ]
     },
     "execution_count": 18,
     "metadata": {},
     "output_type": "execute_result"
    }
   ],
   "source": [
    "# Again, re-seeding the RNG, but using different number\n",
    "np.random.seed(30)\n",
    "\n",
    "# Generating 5 random numbers\n",
    "np.random.random(size=5)"
   ]
  }
 ],
 "metadata": {
  "kernelspec": {
   "display_name": "Python 3",
   "language": "python",
   "name": "python3"
  },
  "language_info": {
   "codemirror_mode": {
    "name": "ipython",
    "version": 3
   },
   "file_extension": ".py",
   "mimetype": "text/x-python",
   "name": "python",
   "nbconvert_exporter": "python",
   "pygments_lexer": "ipython3",
   "version": "3.7.1"
  }
 },
 "nbformat": 4,
 "nbformat_minor": 2
}
