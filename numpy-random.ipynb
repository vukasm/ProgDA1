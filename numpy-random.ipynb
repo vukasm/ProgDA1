{
 "cells": [
  {
   "cell_type": "markdown",
   "metadata": {},
   "source": [
    "# The introduction to numpy.random package"
   ]
  },
  {
   "cell_type": "markdown",
   "metadata": {},
   "source": [
    "by Margarita Vukas"
   ]
  },
  {
   "cell_type": "markdown",
   "metadata": {},
   "source": [
    "## Part I. The Basics\n",
    "**NumPy** is a python package which main objective is the homogenous multidimensional array. It provides a high-performance multidimensional array object, and tools for working with these arrays. Several other Python packages in Python such as ScyPy and Matplotlib to some extent depend on Numpy and it's functions.\n",
    "Array in Numpy is a table of elements (usually numbers), all of the same type, indexed by a tuple of positive integers.  \n",
    "NumPy's submodule **numpy.random** provides various routines for generating random numbers. It uses a particular algorithm, called the Mersenne Twisted, to generate pseudorandom numbers."
   ]
  },
  {
   "cell_type": "markdown",
   "metadata": {},
   "source": [
    "There are many advantages of using Numpy over regular Python. Python's  lists are efficient general-purpose containers, but they have limitations. On the other side, Numpy is more suitable for performing more complex operations. All in all, Numpy is faster, more convinient and much more efficient.  "
   ]
  },
  {
   "cell_type": "code",
   "execution_count": 20,
   "metadata": {},
   "outputs": [],
   "source": [
    "#import libraries\n",
    "import numpy as np"
   ]
  },
  {
   "cell_type": "markdown",
   "metadata": {},
   "source": [
    "An array class in Numpy is called as **ndarray**."
   ]
  },
  {
   "cell_type": "code",
   "execution_count": 4,
   "metadata": {},
   "outputs": [
    {
     "data": {
      "text/plain": [
       "array([[ 0,  1,  2,  3,  4],\n",
       "       [ 5,  6,  7,  8,  9],\n",
       "       [10, 11, 12, 13, 14]])"
      ]
     },
     "execution_count": 4,
     "metadata": {},
     "output_type": "execute_result"
    }
   ],
   "source": [
    "import numpy as np\n",
    "#making an array in the shape 3x5\n",
    "x = np.arange(15).reshape(3,5)\n",
    "x"
   ]
  },
  {
   "cell_type": "code",
   "execution_count": 6,
   "metadata": {},
   "outputs": [
    {
     "data": {
      "text/plain": [
       "numpy.ndarray"
      ]
     },
     "execution_count": 6,
     "metadata": {},
     "output_type": "execute_result"
    }
   ],
   "source": [
    "#checking the type of 'array'\n",
    "type(array)"
   ]
  },
  {
   "cell_type": "markdown",
   "metadata": {},
   "source": [
    "## Part II. Simple random data & Permutations"
   ]
  },
  {
   "cell_type": "markdown",
   "metadata": {},
   "source": [
    "### Simple random data"
   ]
  },
  {
   "cell_type": "markdown",
   "metadata": {},
   "source": [
    "A **simple random data** is a subset of a statistical population in which each member of the subset has an equal probability of being chosen. A simple random sample is meant to be an unbiased representation of a group.  \n",
    "Below I will explain some of the numpy.random built-in functions which are dealing with random sampling. "
   ]
  },
  {
   "cell_type": "markdown",
   "metadata": {},
   "source": [
    "### numpy.random.rand\n",
    "This functions outputs random values in a given shape. Either it creates an array of the given shape, which contains random numbers from the interval or outputs a single float if used without specifications (e.g. numpy.random.rand() ).  \n",
    "*Note: the interval is halp opened, which means that the lower bound is included but the higher band is excluded from the interval.*"
   ]
  },
  {
   "cell_type": "code",
   "execution_count": 3,
   "metadata": {},
   "outputs": [
    {
     "data": {
      "text/plain": [
       "array([[0.89401492, 0.63502645, 0.80590792, 0.1588354 , 0.45311701],\n",
       "       [0.92844705, 0.5621778 , 0.96353593, 0.16537664, 0.33335844],\n",
       "       [0.84008001, 0.39354377, 0.71019245, 0.44230142, 0.07140987]])"
      ]
     },
     "execution_count": 3,
     "metadata": {},
     "output_type": "execute_result"
    }
   ],
   "source": [
    "#numpy.random.rand function\n",
    "np.random.rand(3,5)\n"
   ]
  },
  {
   "cell_type": "code",
   "execution_count": 7,
   "metadata": {},
   "outputs": [
    {
     "data": {
      "image/png": "[encoded data removed]",
      "text/plain": [
       "<Figure size 432x288 with 1 Axes>"
      ]
     },
     "metadata": {
      "needs_background": "light"
     },
     "output_type": "display_data"
    }
   ],
   "source": [
    "#importing matplotlib.pyplot library\n",
    "import matplotlib.pyplot as plt\n",
    "#matplotlib magic command\n",
    "%matplotlib inline\n",
    "\n",
    "x=np.random.rand(3,5)\n",
    "\n",
    "#plotting a histogram of x\n",
    "plt.hist(x)\n",
    "plt.show()"
   ]
  },
  {
   "cell_type": "markdown",
   "metadata": {},
   "source": [
    "The difference from all of the other numpy.random functions is that the others accept shapes, i.e. N-tuples (specified as Python lists or tuples).  \n",
    "The following two lines will return exactly the same results"
   ]
  },
  {
   "cell_type": "code",
   "execution_count": 12,
   "metadata": {},
   "outputs": [],
   "source": [
    "import numpy as np\n",
    "\n",
    "# a single tuple as parameter\n",
    "x = np.random.random_sample((1,2,3)) \n",
    "# integers as parameters\n",
    "x = np.random.rand(1,2,3) "
   ]
  },
  {
   "cell_type": "markdown",
   "metadata": {},
   "source": [
    "## numpy.random_sample"
   ]
  },
  {
   "cell_type": "markdown",
   "metadata": {},
   "source": [
    "**numpy.random_sample** function returns random floats in the half open interval.  \n",
    "It only has one paremeter - size, which determines the shape of the array. As a default, it returns single float.  \n",
    "*Note: For multidimensional arrays, it is required to use double brackets.*"
   ]
  },
  {
   "cell_type": "code",
   "execution_count": 13,
   "metadata": {},
   "outputs": [
    {
     "data": {
      "text/plain": [
       "array([[0.59086317, 0.55846086],\n",
       "       [0.71535205, 0.02227596],\n",
       "       [0.24444349, 0.16856647],\n",
       "       [0.1147374 , 0.76811428],\n",
       "       [0.70623635, 0.83444263]])"
      ]
     },
     "execution_count": 13,
     "metadata": {},
     "output_type": "execute_result"
    }
   ],
   "source": [
    "#random_sample function\n",
    "x = np.random.random_sample((5,2))\n",
    "x"
   ]
  },
  {
   "cell_type": "markdown",
   "metadata": {},
   "source": [
    "Note that this function is, also, an alias for numpy.random.random function."
   ]
  },
  {
   "cell_type": "markdown",
   "metadata": {},
   "source": [
    "### Permutations"
   ]
  },
  {
   "cell_type": "markdown",
   "metadata": {},
   "source": [
    "**Permutation** , in mathematics, is the act of arranging the members of a set into a sequence or order, or, if set is already ordered, changing the arrangement, especially in linear order.  \n",
    "**numpy.random** package offeres two functions for dealing with permutations - **shuffle(x)** and **permutation(x)** function."
   ]
  },
  {
   "cell_type": "markdown",
   "metadata": {},
   "source": [
    "### numpy.random.shuffle"
   ]
  },
  {
   "cell_type": "markdown",
   "metadata": {},
   "source": [
    "**numpy.random.shuffle** function modifies a sequence in-place by shuffling its contents.  \n",
    "It is important to note, that in the case of multi-dimensional array, this function only shuffles the array of the first axis. Others remain the same.  \n"
   ]
  },
  {
   "cell_type": "code",
   "execution_count": 15,
   "metadata": {},
   "outputs": [
    {
     "data": {
      "text/plain": [
       "array([ 4,  0,  7,  3,  9,  5,  2, 11,  1, 10,  8,  6])"
      ]
     },
     "execution_count": 15,
     "metadata": {},
     "output_type": "execute_result"
    }
   ],
   "source": [
    "import numpy as np\n",
    "\n",
    "#one-dimensional array\n",
    "arr = np.arange(12)\n",
    "#random.shuffle function\n",
    "np.random.shuffle(arr)\n",
    "arr"
   ]
  },
  {
   "cell_type": "code",
   "execution_count": 49,
   "metadata": {},
   "outputs": [
    {
     "data": {
      "text/plain": [
       "array([[ 0,  1,  2,  3,  4],\n",
       "       [ 5,  6,  7,  8,  9],\n",
       "       [10, 11, 12, 13, 14]])"
      ]
     },
     "execution_count": 49,
     "metadata": {},
     "output_type": "execute_result"
    }
   ],
   "source": [
    "#multi-dimensional arrays\n",
    "abc = np.arange(15).reshape((3, 5))\n",
    "np.random.shuffle(arr)\n",
    "abc"
   ]
  },
  {
   "cell_type": "markdown",
   "metadata": {},
   "source": [
    "### numpy.random.permutation"
   ]
  },
  {
   "cell_type": "markdown",
   "metadata": {},
   "source": [
    "**numpy.random.permutation** randomly permutes a sequence, or a return a permuted range.  \n",
    "Again, if we are using this function on multi-dimensional array, it is only shuffeled along its first index.  "
   ]
  },
  {
   "cell_type": "code",
   "execution_count": 16,
   "metadata": {},
   "outputs": [
    {
     "data": {
      "text/plain": [
       "array([ 1,  8,  0,  3,  9,  5,  6,  2, 10,  4, 11,  7])"
      ]
     },
     "execution_count": 16,
     "metadata": {},
     "output_type": "execute_result"
    }
   ],
   "source": [
    "#random.permutation function\n",
    "np.random.permutation(12)"
   ]
  },
  {
   "cell_type": "code",
   "execution_count": 43,
   "metadata": {},
   "outputs": [
    {
     "data": {
      "text/plain": [
       "array([15,  1,  4, 12,  9])"
      ]
     },
     "execution_count": 43,
     "metadata": {},
     "output_type": "execute_result"
    }
   ],
   "source": [
    "np.random.permutation([1, 4, 9, 12, 15])"
   ]
  },
  {
   "cell_type": "code",
   "execution_count": 17,
   "metadata": {},
   "outputs": [
    {
     "data": {
      "text/plain": [
       "array([[ 5,  6,  7,  8,  9],\n",
       "       [10, 11, 12, 13, 14],\n",
       "       [ 0,  1,  2,  3,  4]])"
      ]
     },
     "execution_count": 17,
     "metadata": {},
     "output_type": "execute_result"
    }
   ],
   "source": [
    "#array in the shape 3x5\n",
    "abc = np.arange(15).reshape((3, 5))\n",
    "np.random.permutation(abc)"
   ]
  },
  {
   "cell_type": "markdown",
   "metadata": {},
   "source": [
    "**np.random.permutation** and **np.random.shuffle** have several differences.  \n",
    "- if x is an array, **permutation** function will return a shuffled *copy* of the array inplace\n",
    "- if x is an integer, **permutation** will return a shuffled range i.e. **np.random.shuffle(np.arange(n))**"
   ]
  },
  {
   "cell_type": "markdown",
   "metadata": {},
   "source": [
    "## Part III. Distributions"
   ]
  },
  {
   "cell_type": "markdown",
   "metadata": {},
   "source": [
    "### numpy.random.uniform\n",
    "This distribution draws samples from a uniform distribution.  \n",
    "\n",
    "*The uniform distribution - a type of probability distribution where all variables have the same probability to be outcomes (all outcomes are equally likely).*  \n",
    "\n",
    "Samples are equaly distributed over the half-open interval (includes low, but excludes high). In other words, any value within the given interval is equally likely to be drawn by uniform function.  \n",
    "The function has three paremeters, **low** (low band), **high** (high band) and **size** (output shape).  "
   ]
  },
  {
   "cell_type": "code",
   "execution_count": 18,
   "metadata": {},
   "outputs": [
    {
     "data": {
      "text/plain": [
       "array([0.67528745, 0.01605866, 0.5460572 , 0.00742527, 0.01763266,\n",
       "       0.04477361, 0.03931752, 0.7183816 , 0.07885389, 0.2485339 ,\n",
       "       0.0913625 , 0.19548896, 0.58653491, 0.7668149 , 0.52193918,\n",
       "       0.25979287, 0.04429207, 0.93795077, 0.18675934, 0.62027339,\n",
       "       0.8325278 , 0.24814346, 0.57065685, 0.46554448, 0.32159041,\n",
       "       0.13522081, 0.46252856, 0.71508249, 0.02053225, 0.74450427,\n",
       "       0.03261468, 0.10449482, 0.9063512 , 0.9437492 , 0.65439841,\n",
       "       0.83941045, 0.09357293, 0.41632616, 0.58596638, 0.89650196,\n",
       "       0.77067245, 0.44074622, 0.36827485, 0.16746332, 0.79939933,\n",
       "       0.0154716 , 0.16224653, 0.31574016, 0.61618159, 0.63084463])"
      ]
     },
     "execution_count": 18,
     "metadata": {},
     "output_type": "execute_result"
    }
   ],
   "source": [
    "#uniform distribution\n",
    "np.random.uniform(0,1,50)"
   ]
  },
  {
   "cell_type": "code",
   "execution_count": 19,
   "metadata": {},
   "outputs": [
    {
     "data": {
      "image/png": "[encoded data removed]",
      "text/plain": [
       "<Figure size 432x288 with 1 Axes>"
      ]
     },
     "metadata": {
      "needs_background": "light"
     },
     "output_type": "display_data"
    }
   ],
   "source": [
    "x=np.random.uniform(0,1,50)\n",
    "\n",
    "#histogram of the uniform distribution\n",
    "plt.hist(x)\n",
    "plt.show()"
   ]
  },
  {
   "cell_type": "markdown",
   "metadata": {},
   "source": [
    "### numpy.random.normal\n",
    "This function draws a random samples from a normaln (Gaussian distribution.  \n",
    "\n",
    "*Normal distribution - a probability distribution that is symmetric about the mean, showing that data near the mean are more frequant in occurance and therefore more likely to be the outcome. Often called a bell curve*  \n",
    "\n",
    "The function has three parameters , **loc** (mean), **scale** (standard deviation/spread of the function) and **size** (output shape).  \n"
   ]
  },
  {
   "cell_type": "code",
   "execution_count": 20,
   "metadata": {},
   "outputs": [
    {
     "data": {
      "image/png": "[encoded data removed]",
      "text/plain": [
       "<Figure size 432x288 with 1 Axes>"
      ]
     },
     "metadata": {
      "needs_background": "light"
     },
     "output_type": "display_data"
    }
   ],
   "source": [
    "#defining the parameters, mu as mean and sigma as standard deviation\n",
    "mu, sigma = 0, 0.1\n",
    "#normal distribution\n",
    "s = np.random.normal(mu, sigma, 1000)\n",
    "\n",
    "#histogram and KDE of the normal distribution\n",
    "count, bins, ignored = plt.hist(s, 30, density=True)\n",
    "plt.plot(bins, 1/(sigma * np.sqrt(2 * np.pi)) *\n",
    "                np.exp( - (bins - mu)**2 / (2 * sigma**2) ),\n",
    "          linewidth=2, color='r')\n",
    "plt.show()"
   ]
  },
  {
   "cell_type": "markdown",
   "metadata": {},
   "source": [
    "### numpy.random.poisson "
   ]
  },
  {
   "cell_type": "markdown",
   "metadata": {},
   "source": [
    "**numpy.random.poisson** is a probability function named by French mathematician **Simeon Poisson**. \n",
    "This function draws samples from a Poisson distribution.  \n",
    "**Poisson distribution** is the discrete probability distribution of the number of events occurring in a given time period, given the average number of times the event occurs over that time period.  \n",
    "In other words, when calling poisson function, we input 2 parameters - **lam**, which is an expectation of interval (average number of times the event occures) and **size**, i.e. output shape.  \n",
    "Output of the function is an ndarray or scalar."
   ]
  },
  {
   "cell_type": "code",
   "execution_count": 21,
   "metadata": {},
   "outputs": [
    {
     "data": {
      "text/plain": [
       "array([10, 12,  5, 12, 18, 16,  6, 11,  6, 12, 18,  4,  5,  9, 13,  9,  7,\n",
       "       10, 13,  9,  6,  8, 14, 15, 13,  9, 11,  8, 15, 19,  9,  7, 11,  6,\n",
       "       10, 12, 10,  5, 12,  6, 15,  9, 11, 10,  9, 13, 10, 12, 11,  6, 10,\n",
       "       11,  7,  6, 16, 13,  7, 13, 10,  7, 13,  3,  8, 12, 12,  6,  7, 11,\n",
       "       12, 19,  6,  9, 12, 13,  7,  7, 10,  7,  4, 14, 12, 14, 11, 14, 10,\n",
       "       13,  6,  9, 10,  8, 20, 15,  6, 12, 17, 10, 10, 10, 12,  7])"
      ]
     },
     "execution_count": 21,
     "metadata": {},
     "output_type": "execute_result"
    }
   ],
   "source": [
    "import numpy as np\n",
    "#poisson distribution\n",
    "x = np.random.poisson(10, 100)\n",
    "x"
   ]
  },
  {
   "cell_type": "code",
   "execution_count": 22,
   "metadata": {},
   "outputs": [
    {
     "data": {
      "image/png": "[encoded data removed]",
      "text/plain": [
       "<Figure size 432x288 with 1 Axes>"
      ]
     },
     "metadata": {
      "needs_background": "light"
     },
     "output_type": "display_data"
    }
   ],
   "source": [
    "#poisson distribution histogram\n",
    "import matplotlib.pyplot as plt\n",
    "count, bins, ignored = plt.hist(x, 10, density=True)\n",
    "plt.show()"
   ]
  },
  {
   "cell_type": "markdown",
   "metadata": {},
   "source": [
    "### numpy.random.pareto"
   ]
  },
  {
   "cell_type": "markdown",
   "metadata": {},
   "source": [
    "**numpy.random.pareto** function in numpy.random package draws samples from a **Pareto II or Lomax distribution** with specified shape.  \n",
    "**Lomax distribution** is a heavy-tail probability distribution used in business, economics etc. It is a shifted Pareto distribution, which means that it's support begings at zero (while in Pareto type I. it begins at 1).  \n",
    "*Note: Pareto type I. is a power-law probability distribution originally applied to describing the distribution of wealth in a society, fitting the trend that a large portion of wealth is held by a small fraction of the population.*  \n",
    "The Pareto distribution must be greater than zero, and is unbounded above. It is also known as the “80-20 rule”. In this distribution, 80 percent of the weights are in the lowest 20 percent of the range, while the other 20 percent fill the remaining 80 percent of the range.   "
   ]
  },
  {
   "cell_type": "markdown",
   "metadata": {},
   "source": [
    "The classical Pareto distribution can be obtained from the Lomax distribution by adding 1 and multiplying by the scale parameter m."
   ]
  },
  {
   "cell_type": "code",
   "execution_count": 17,
   "metadata": {},
   "outputs": [],
   "source": [
    "#a is the shape of the distribution (float or array of floats)\n",
    "#1000 describes output shape\n",
    "a = 3.0\n",
    "m = 2.0  \n",
    "s = (np.random.pareto(a, 1000) + 1) * m"
   ]
  },
  {
   "cell_type": "code",
   "execution_count": 19,
   "metadata": {},
   "outputs": [
    {
     "data": {
      "image/png": "[encoded data removed]",
      "text/plain": [
       "<Figure size 432x288 with 1 Axes>"
      ]
     },
     "metadata": {
      "needs_background": "light"
     },
     "output_type": "display_data"
    }
   ],
   "source": [
    "#displaying the histogram of the samples and the probability density function\n",
    "import matplotlib.pyplot as plt\n",
    "count, bins, _ = plt.hist(s, 100, density=True)\n",
    "fit = a*m**a / bins**(a+1)\n",
    "plt.plot(bins, max(count)*fit/max(fit), linewidth=2, color='r')\n",
    "plt.show()"
   ]
  },
  {
   "cell_type": "markdown",
   "metadata": {},
   "source": [
    "### numpy.random.power"
   ]
  },
  {
   "cell_type": "markdown",
   "metadata": {},
   "source": [
    "**numpy.random.power** draws samples in interval 0,1 from a power distribution with positive exponent a - 1.  \n",
    "It has two parameters, a, the parameter of the distribution which should be greater than zero and size  i.e. output shape.  \n",
    "It returns drawn samples from the parameterized power distribution in the format of ndarray or a scalar.  "
   ]
  },
  {
   "cell_type": "code",
   "execution_count": 3,
   "metadata": {},
   "outputs": [
    {
     "data": {
      "text/plain": [
       "array([0.74644985, 0.80338802, 0.68970476, 0.66450836, 0.98313976,\n",
       "       0.60664184, 0.80013028, 0.95878544, 0.62785009, 0.77770664,\n",
       "       0.63820106, 0.96461938, 0.90582037, 0.96454937, 0.94176208,\n",
       "       0.73597011, 0.96835574, 0.65900938, 0.88229537, 0.5812041 ,\n",
       "       0.81340213, 0.71358471, 0.91686626, 0.99052647, 0.90134403,\n",
       "       0.98669788, 0.88587633, 0.6574906 , 0.96712509, 0.99463811,\n",
       "       0.76421129, 0.75162936, 0.94402915, 0.94980573, 0.95571201,\n",
       "       0.92035477, 0.91930025, 0.56521124, 0.95590229, 0.75765819,\n",
       "       0.56403037, 0.90163026, 0.77947062, 0.50872891, 0.85785239,\n",
       "       0.93454773, 0.86780551, 0.55949728, 0.71826613, 0.54416814,\n",
       "       0.86414695, 0.97190072, 0.86454205, 0.93152229, 0.77026259,\n",
       "       0.89833084, 0.88745269, 0.99538955, 0.7978663 , 0.76476484,\n",
       "       0.74137464, 0.75323549, 0.9807204 , 0.91247437, 0.57900212,\n",
       "       0.83034636, 0.87603965, 0.67607762, 0.74514425, 0.94391503,\n",
       "       0.97588544, 0.99973587, 0.93923984, 0.6532039 , 0.62896684,\n",
       "       0.95290462, 0.73971008, 0.98690423, 0.82445767, 0.83214744,\n",
       "       0.76589625, 0.97886346, 0.9524008 , 0.59342625, 0.92139693,\n",
       "       0.80780527, 0.5928425 , 0.96687992, 0.99528134, 0.93705451,\n",
       "       0.87400688, 0.68840881, 0.99214851, 0.80186543, 0.96606876,\n",
       "       0.98837094, 0.57487398, 0.72820957, 0.94513985, 0.83505345,\n",
       "       0.86263674, 0.96159125, 0.73618323, 0.57775173, 0.87937814,\n",
       "       0.86877142, 0.91473982, 0.82115803, 0.81302866, 0.42342903,\n",
       "       0.93380334, 0.99825654, 0.41593596, 0.6605782 , 0.88698272,\n",
       "       0.73840649, 0.65383824, 0.98309049, 0.85512978, 0.98051377,\n",
       "       0.9848633 , 0.96015312, 0.83996835, 0.87133446, 0.70056031,\n",
       "       0.62030173, 0.89803232, 0.80436087, 0.90368657, 0.91769525,\n",
       "       0.93679634, 0.89618989, 0.94162496, 0.94204128, 0.74520033,\n",
       "       0.93934096, 0.85620448, 0.85805256, 0.95186023, 0.61998606,\n",
       "       0.69951951, 0.88953636, 0.66977453, 0.5659416 , 0.58443675,\n",
       "       0.87371759, 0.82416575, 0.96342948, 0.79068667, 0.90758154,\n",
       "       0.74025347, 0.82151998, 0.87511709, 0.7615751 , 0.72610865,\n",
       "       0.74500913, 0.97448873, 0.65597493, 0.63839217, 0.96904409,\n",
       "       0.65013507, 0.51365503, 0.7719129 , 0.86962849, 0.78989175,\n",
       "       0.91887323, 0.89200145, 0.84674829, 0.705821  , 0.8128387 ,\n",
       "       0.99834693, 0.98970779, 0.89032167, 0.9381102 , 0.95714888,\n",
       "       0.9736452 , 0.88732789, 0.91961072, 0.99983865, 0.96310977,\n",
       "       0.90426088, 0.72643744, 0.94121652, 0.73179592, 0.94441531,\n",
       "       0.97090776, 0.77619541, 0.55331803, 0.98770257, 0.86142414,\n",
       "       0.95045995, 0.81064095, 0.85848293, 0.61289418, 0.89242999,\n",
       "       0.3130586 , 0.88320043, 0.5762846 , 0.90134037, 0.73070983,\n",
       "       0.89568786, 0.94305635, 0.66017249, 0.57608295, 0.58501549,\n",
       "       0.69550073, 0.99232495, 0.59922963, 0.8539161 , 0.65129021,\n",
       "       0.94122055, 0.80107364, 0.75098177, 0.98894875, 0.7116392 ,\n",
       "       0.78405818, 0.85380993, 0.65345983, 0.95459282, 0.68410248,\n",
       "       0.72817773, 0.88803893, 0.95118903, 0.73001465, 0.87689557,\n",
       "       0.70830435, 0.76297925, 0.88172807, 0.71654474, 0.80370164,\n",
       "       0.9214844 , 0.76183426, 0.39242687, 0.46972531, 0.73517097,\n",
       "       0.91223612, 0.61269153, 0.861503  , 0.96589843, 0.75149196,\n",
       "       0.99326393, 0.8541482 , 0.95927269, 0.79363195, 0.63065847,\n",
       "       0.66257364, 0.93512146, 0.81363645, 0.76308488, 0.99151537,\n",
       "       0.95099599, 0.74091686, 0.35746103, 0.78100317, 0.9447328 ,\n",
       "       0.9406156 , 0.85360035, 0.95200093, 0.81608806, 0.97455308,\n",
       "       0.79806902, 0.96025248, 0.94077886, 0.72582818, 0.91833245,\n",
       "       0.61662723, 0.88201613, 0.88826592, 0.82606102, 0.87441051,\n",
       "       0.98104599, 0.72721111, 0.837553  , 0.90584242, 0.95019684,\n",
       "       0.98560091, 0.89136127, 0.99272646, 0.88618327, 0.86106682,\n",
       "       0.9712523 , 0.87814662, 0.79070216, 0.84356445, 0.85336833,\n",
       "       0.93687885, 0.95072865, 0.52690916, 0.96627629, 0.86865363,\n",
       "       0.83922784, 0.88342374, 0.98283538, 0.61147123, 0.81393414,\n",
       "       0.87565531, 0.76186767, 0.91916913, 0.95217252, 0.93222487,\n",
       "       0.90636912, 0.94861554, 0.7578984 , 0.94657029, 0.70052777,\n",
       "       0.94837403, 0.86840021, 0.96409029, 0.87460693, 0.85619096,\n",
       "       0.97920019, 0.3528033 , 0.46688631, 0.97708007, 0.70544247,\n",
       "       0.59459851, 0.86532333, 0.93275918, 0.5191901 , 0.8908021 ,\n",
       "       0.73095093, 0.91423124, 0.82687092, 0.77607914, 0.75544059,\n",
       "       0.88388907, 0.82506095, 0.51598034, 0.79870354, 0.4513843 ,\n",
       "       0.9658804 , 0.96002314, 0.8693355 , 0.92748466, 0.7994755 ,\n",
       "       0.94037481, 0.59560254, 0.72717848, 0.88379433, 0.84385223,\n",
       "       0.73250869, 0.28158369, 0.43588006, 0.97687241, 0.96359794,\n",
       "       0.74810619, 0.75110953, 0.96564882, 0.84790159, 0.88330943,\n",
       "       0.41140414, 0.67837201, 0.6649167 , 0.79419928, 0.96444329,\n",
       "       0.75365695, 0.79550071, 0.90234757, 0.619161  , 0.85441908,\n",
       "       0.96987257, 0.90182979, 0.82594515, 0.87996779, 0.9444479 ,\n",
       "       0.84425445, 0.74262367, 0.88378556, 0.84220556, 0.81880662,\n",
       "       0.838288  , 0.66319396, 0.90325815, 0.7439322 , 0.60711058,\n",
       "       0.88463135, 0.74459003, 0.95575934, 0.58198587, 0.99066551,\n",
       "       0.99144899, 0.93314911, 0.85142161, 0.97240347, 0.61701577,\n",
       "       0.98883949, 0.87315429, 0.86127682, 0.88019125, 0.70482021,\n",
       "       0.67203936, 0.92791655, 0.98028258, 0.75367145, 0.99783264,\n",
       "       0.97464247, 0.81257973, 0.52120373, 0.95974613, 0.92201928,\n",
       "       0.59735999, 0.62454157, 0.90941574, 0.87823621, 0.96591289,\n",
       "       0.9377414 , 0.9056452 , 0.98851957, 0.74457314, 0.97819799,\n",
       "       0.90782931, 0.87195703, 0.93359381, 0.77587138, 0.99636619,\n",
       "       0.95199337, 0.99113109, 0.95426714, 0.50157521, 0.77888191,\n",
       "       0.88425766, 0.76309053, 0.6912264 , 0.82299166, 0.94860264,\n",
       "       0.88254463, 0.80659058, 0.68736864, 0.50471106, 0.95821619,\n",
       "       0.76694673, 0.93213967, 0.73176963, 0.99666388, 0.8858739 ,\n",
       "       0.79362271, 0.96171024, 0.8256506 , 0.66305696, 0.790128  ,\n",
       "       0.85281231, 0.8707031 , 0.96768588, 0.793507  , 0.46997377,\n",
       "       0.99747402, 0.93413023, 0.79013302, 0.90352408, 0.88510403,\n",
       "       0.99836059, 0.9969873 , 0.95779272, 0.92551494, 0.91631947,\n",
       "       0.79645111, 0.98161129, 0.71852801, 0.75555646, 0.69244828,\n",
       "       0.95969181, 0.99439763, 0.91794976, 0.89596065, 0.93916615,\n",
       "       0.98650028, 0.83606746, 0.79203031, 0.76464099, 0.97204293,\n",
       "       0.70740101, 0.97275957, 0.85520706, 0.8917016 , 0.77814053,\n",
       "       0.98983807, 0.98359453, 0.94896178, 0.82855633, 0.94981064,\n",
       "       0.99024132, 0.88865826, 0.96097076, 0.7767051 , 0.95764809,\n",
       "       0.77468063, 0.93692112, 0.86167273, 0.80131358, 0.51137212,\n",
       "       0.84704175, 0.99350021, 0.41320375, 0.99085938, 0.98216265,\n",
       "       0.92040145, 0.91937529, 0.83024685, 0.89495865, 0.80641884,\n",
       "       0.93327153, 0.65239733, 0.9619787 , 0.94598544, 0.92685826,\n",
       "       0.98999054, 0.90511417, 0.80886358, 0.97929449, 0.94378603,\n",
       "       0.88014096, 0.92092057, 0.41841516, 0.8780459 , 0.86523766,\n",
       "       0.79040543, 0.79533   , 0.98859672, 0.97097296, 0.99760413,\n",
       "       0.87432068, 0.67812253, 0.81130977, 0.91678882, 0.68706295,\n",
       "       0.68994951, 0.96076983, 0.97822342, 0.39546918, 0.78462201,\n",
       "       0.81825916, 0.94321555, 0.93604187, 0.938969  , 0.90327691,\n",
       "       0.8558463 , 0.79545146, 0.76344263, 0.715706  , 0.86852411,\n",
       "       0.92986206, 0.91948266, 0.73663514, 0.81794712, 0.95249603,\n",
       "       0.61351863, 0.77938953, 0.83737007, 0.83176416, 0.75639648,\n",
       "       0.96693399, 0.71537242, 0.86420053, 0.98060831, 0.93076817,\n",
       "       0.89099693, 0.75054751, 0.91662068, 0.91166495, 0.880215  ,\n",
       "       0.96970488, 0.84852796, 0.87933061, 0.83985063, 0.92171998,\n",
       "       0.93400975, 0.69101943, 0.85314902, 0.85711278, 0.86675139,\n",
       "       0.87567367, 0.74475404, 0.47921382, 0.56555499, 0.88596758,\n",
       "       0.63210319, 0.88826382, 0.35518906, 0.95550409, 0.9093893 ,\n",
       "       0.86888652, 0.86198823, 0.93796971, 0.64821279, 0.85272088,\n",
       "       0.83632502, 0.88033151, 0.94880925, 0.89456334, 0.94187237,\n",
       "       0.97053613, 0.95051382, 0.95438225, 0.72458135, 0.54322304,\n",
       "       0.71221101, 0.8064908 , 0.7928263 , 0.89718206, 0.60780495,\n",
       "       0.9131997 , 0.96231521, 0.73924972, 0.97971381, 0.89544855,\n",
       "       0.91441915, 0.95342397, 0.88693646, 0.73617569, 0.82417368,\n",
       "       0.94646222, 0.82723163, 0.73055357, 0.81364181, 0.54296064,\n",
       "       0.94814365, 0.84497211, 0.97179853, 0.81443337, 0.98481394,\n",
       "       0.89362956, 0.98088855, 0.83661748, 0.81583088, 0.91676877,\n",
       "       0.4704072 , 0.60835852, 0.57541059, 0.72145726, 0.74170786,\n",
       "       0.72577301, 0.69755691, 0.87285743, 0.91058053, 0.5947034 ,\n",
       "       0.88055398, 0.56874032, 0.76725182, 0.97698085, 0.90354299,\n",
       "       0.99974553, 0.82711363, 0.92608192, 0.97972588, 0.78134748,\n",
       "       0.85063535, 0.92472596, 0.90833125, 0.8307089 , 0.65935887,\n",
       "       0.73734542, 0.97913652, 0.86178938, 0.85291121, 0.54246304,\n",
       "       0.86337923, 0.99679984, 0.88984689, 0.61728232, 0.81689246,\n",
       "       0.94967398, 0.93075404, 0.90358667, 0.9775203 , 0.93467897,\n",
       "       0.94309269, 0.85767503, 0.93148677, 0.94585929, 0.85937001,\n",
       "       0.9768163 , 0.91527225, 0.77784375, 0.92149873, 0.92763675,\n",
       "       0.86233081, 0.89554161, 0.86754467, 0.9402819 , 0.84919428,\n",
       "       0.95271503, 0.65048044, 0.92695053, 0.85329993, 0.9307547 ,\n",
       "       0.99007312, 0.55201021, 0.51557612, 0.65224675, 0.95265895,\n",
       "       0.88708761, 0.82277922, 0.90999155, 0.93129892, 0.93304713,\n",
       "       0.9674224 , 0.93517937, 0.91286014, 0.88384436, 0.79935817,\n",
       "       0.79589576, 0.97552064, 0.92649962, 0.83016616, 0.84133139,\n",
       "       0.70123425, 0.43884254, 0.82412748, 0.64753274, 0.97263214,\n",
       "       0.94036466, 0.76589676, 0.62736622, 0.93742799, 0.88172778,\n",
       "       0.91730778, 0.91453051, 0.75559449, 0.95875839, 0.90843659,\n",
       "       0.81628206, 0.99734318, 0.94338628, 0.18104066, 0.66921438,\n",
       "       0.85968031, 0.8880096 , 0.80220941, 0.8531111 , 0.93402481,\n",
       "       0.90452333, 0.70351884, 0.78697746, 0.78527288, 0.85160246,\n",
       "       0.8353907 , 0.73889505, 0.83202045, 0.98105012, 0.69199705,\n",
       "       0.92865299, 0.75055017, 0.96295348, 0.88374082, 0.96916634,\n",
       "       0.74320205, 0.36520241, 0.9879919 , 0.70330705, 0.98291102,\n",
       "       0.89470148, 0.6725259 , 0.96344509, 0.40403846, 0.94242147,\n",
       "       0.69241934, 0.99732976, 0.82302392, 0.83735854, 0.98864509,\n",
       "       0.75277699, 0.94414671, 0.78015347, 0.99934051, 0.96346158,\n",
       "       0.9338489 , 0.81002335, 0.86455396, 0.96851165, 0.70160541,\n",
       "       0.78885724, 0.97810811, 0.92683182, 0.97922845, 0.80325474,\n",
       "       0.72568928, 0.51213568, 0.74590169, 0.90453514, 0.80594124,\n",
       "       0.95790487, 0.75161007, 0.93839835, 0.83612578, 0.75176316,\n",
       "       0.94871105, 0.91695985, 0.79634872, 0.85379028, 0.93637404,\n",
       "       0.80413413, 0.55618143, 0.98878086, 0.97289499, 0.72496306,\n",
       "       0.89018918, 0.9467363 , 0.67838851, 0.86646197, 0.98062702,\n",
       "       0.7416993 , 0.94540218, 0.94146139, 0.90879916, 0.93808315,\n",
       "       0.53030416, 0.99370799, 0.83185927, 0.88467907, 0.74332686,\n",
       "       0.94263934, 0.8588401 , 0.5766393 , 0.55041565, 0.87173524,\n",
       "       0.83918823, 0.97718259, 0.79647453, 0.99586515, 0.77197181,\n",
       "       0.7876098 , 0.93165277, 0.90840883, 0.70046921, 0.98692013,\n",
       "       0.44430007, 0.90003281, 0.94661339, 0.51776047, 0.73050079,\n",
       "       0.74542919, 0.85572943, 0.88533686, 0.76519548, 0.92507197,\n",
       "       0.77766898, 0.96075482, 0.73068512, 0.97882375, 0.62007057,\n",
       "       0.85648213, 0.91817095, 0.73446411, 0.93059016, 0.74797381,\n",
       "       0.75047457, 0.77740584, 0.91759381, 0.87220528, 0.96115125,\n",
       "       0.75803316, 0.97880346, 0.62412392, 0.82321629, 0.98895247,\n",
       "       0.81263423, 0.87795024, 0.41416017, 0.96177858, 0.94017093,\n",
       "       0.85940446, 0.77668968, 0.71408816, 0.79157499, 0.95969148,\n",
       "       0.66570666, 0.90598692, 0.89675613, 0.95018341, 0.37922969,\n",
       "       0.73338792, 0.97676049, 0.83957237, 0.38458902, 0.91841396,\n",
       "       0.93369248, 0.98825563, 0.7562683 , 0.96613928, 0.98640683,\n",
       "       0.72811939, 0.58281256, 0.84885416, 0.93049753, 0.71663896,\n",
       "       0.62541411, 0.82840549, 0.99979681, 0.96138409, 0.85505082,\n",
       "       0.79003794, 0.83668597, 0.87465469, 0.72406767, 0.99010408,\n",
       "       0.7978125 , 0.75838334, 0.84804156, 0.69035645, 0.87438478,\n",
       "       0.650803  , 0.89547113, 0.83696456, 0.88692741, 0.71943057,\n",
       "       0.70208954, 0.89355475, 0.85760342, 0.89645523, 0.86344513,\n",
       "       0.69108202, 0.53346848, 0.94685886, 0.3624787 , 0.95462381,\n",
       "       0.98388215, 0.85943657, 0.98818302, 0.97363594, 0.83382102,\n",
       "       0.96381342, 0.90792716, 0.90302515, 0.59827785, 0.94245448,\n",
       "       0.66249275, 0.68639296, 0.76679243, 0.92448098, 0.59290045,\n",
       "       0.97083478, 0.62881625, 0.86588752, 0.90615459, 0.86473698,\n",
       "       0.90310534, 0.70081377, 0.94624581, 0.85372898, 0.85286673,\n",
       "       0.69338771, 0.61482715, 0.99502503, 0.88835259, 0.96276766,\n",
       "       0.96288545, 0.93916845, 0.87327913, 0.97852982, 0.71246589,\n",
       "       0.8343392 , 0.87556055, 0.84280961, 0.5328333 , 0.87315219,\n",
       "       0.36737823, 0.99581884, 0.91851502, 0.60169736, 0.68710378,\n",
       "       0.83467257, 0.94047607, 0.90927318, 0.62837751, 0.95576447,\n",
       "       0.94050296, 0.533321  , 0.909546  , 0.77736686, 0.9274957 ,\n",
       "       0.97594218, 0.76523114, 0.97836501, 0.95485584, 0.64796983,\n",
       "       0.96744976, 0.94156528, 0.95873368, 0.91701093, 0.98058823,\n",
       "       0.62967585, 0.83836972, 0.88461477, 0.54414186, 0.83783844,\n",
       "       0.93406002, 0.5826187 , 0.99639848, 0.98868321, 0.68754913,\n",
       "       0.85297934, 0.99151481, 0.97045315, 0.93472452, 0.98770665,\n",
       "       0.83917658, 0.86411277, 0.96688517, 0.92672927, 0.55668623])"
      ]
     },
     "execution_count": 3,
     "metadata": {},
     "output_type": "execute_result"
    }
   ],
   "source": [
    "import numpy as np\n",
    "\n",
    "#parameters\n",
    "a = 5.0\n",
    "samples = 1000\n",
    "#power distribution\n",
    "s = np.random.power(a, samples)\n",
    "s"
   ]
  },
  {
   "cell_type": "code",
   "execution_count": 12,
   "metadata": {},
   "outputs": [
    {
     "data": {
      "image/png": "[encoded data removed]",
      "text/plain": [
       "<Figure size 432x288 with 1 Axes>"
      ]
     },
     "metadata": {
      "needs_background": "light"
     },
     "output_type": "display_data"
    }
   ],
   "source": [
    "import matplotlib.pyplot as plt\n",
    "#histogram and KDF of power distribution\n",
    "count, bins, ignored = plt.hist(s, bins=30)\n",
    "x = np.linspace(0, 1, 100)\n",
    "y = a*x**(a-1.)\n",
    "normed_y = samples*np.diff(bins)[0]*y\n",
    "plt.plot(x, normed_y)\n",
    "plt.show()"
   ]
  },
  {
   "cell_type": "markdown",
   "metadata": {},
   "source": [
    "## Part IV. Seeds"
   ]
  },
  {
   "cell_type": "markdown",
   "metadata": {},
   "source": [
    "### Seeds (Random Generator)\n",
    "People are proven to be not good in generating random numbers because of very noticable patterns. On the other hand, computers are known to be very good at it. The funny thing is, computers are not good at it either. They compute numbers that *look* random but actually are not, and those numbers are called **pseudo random numbers**.  \n",
    "\n",
    "To get better understanding of that, first we have to define the **seed**. **Seed** is a position, i.e. starting point for generating random numbers. If you know what the seed is, you can easily predict what \"random\" numbers the computer will generate."
   ]
  },
  {
   "cell_type": "markdown",
   "metadata": {},
   "source": [
    "Softwares can't generate truly random numbers because all current software is **deterministic**, which means that every output in a calculation will be the exact same given the same input - same seed.  \n",
    "By definition, true randomness is the *lack of a pattern or predictability in events* – and this type of behavior just isn’t possible in software. To achieve “random” behavior in our programs, computers can simulate randomness by using pseudorandom number generators, or in other words - RNG.  \n",
    "A **random number generator** (RNG) is a process used to generate an unpredictable series of numbers.  "
   ]
  },
  {
   "cell_type": "markdown",
   "metadata": {},
   "source": [
    "To test whether the number generation is deterministic, I will set a seed and ask numpy to generate 5 random numbers two times. "
   ]
  },
  {
   "cell_type": "code",
   "execution_count": 16,
   "metadata": {},
   "outputs": [
    {
     "data": {
      "text/plain": [
       "array([0.5881308 , 0.89771373, 0.89153073, 0.81583748, 0.03588959])"
      ]
     },
     "execution_count": 16,
     "metadata": {},
     "output_type": "execute_result"
    }
   ],
   "source": [
    "# Seeding the RNG\n",
    "np.random.seed(20)\n",
    "\n",
    "# Generating 5 random numbers\n",
    "np.random.random(size=5)"
   ]
  },
  {
   "cell_type": "code",
   "execution_count": 17,
   "metadata": {},
   "outputs": [
    {
     "data": {
      "text/plain": [
       "array([0.5881308 , 0.89771373, 0.89153073, 0.81583748, 0.03588959])"
      ]
     },
     "execution_count": 17,
     "metadata": {},
     "output_type": "execute_result"
    }
   ],
   "source": [
    "# Re-seeding the generator\n",
    "np.random.seed(20)\n",
    "\n",
    "# Generating 5 random numbers\n",
    "np.random.random(size=5)"
   ]
  },
  {
   "cell_type": "markdown",
   "metadata": {},
   "source": [
    "Above, you can see that given the same seed, numpy is generating the exact same \"random\" numbers.  \n",
    "As soon as we set different seed, the numbers will change."
   ]
  },
  {
   "cell_type": "code",
   "execution_count": 23,
   "metadata": {},
   "outputs": [
    {
     "data": {
      "text/plain": [
       "array([0.64414354, 0.38074849, 0.66304791, 0.16365073, 0.96260781])"
      ]
     },
     "execution_count": 23,
     "metadata": {},
     "output_type": "execute_result"
    }
   ],
   "source": [
    "# Again, re-seeding the RNG, but using different number\n",
    "np.random.seed(30)\n",
    "\n",
    "# Generating 5 random numbers\n",
    "np.random.random(size=5)"
   ]
  },
  {
   "cell_type": "markdown",
   "metadata": {},
   "source": [
    "# The End"
   ]
  },
  {
   "cell_type": "code",
   "execution_count": null,
   "metadata": {},
   "outputs": [],
   "source": []
  }
 ],
 "metadata": {
  "kernelspec": {
   "display_name": "Python 3",
   "language": "python",
   "name": "python3"
  },
  "language_info": {
   "codemirror_mode": {
    "name": "ipython",
    "version": 3
   },
   "file_extension": ".py",
   "mimetype": "text/x-python",
   "name": "python",
   "nbconvert_exporter": "python",
   "pygments_lexer": "ipython3",
   "version": "3.7.1"
  }
 },
 "nbformat": 4,
 "nbformat_minor": 2
}
